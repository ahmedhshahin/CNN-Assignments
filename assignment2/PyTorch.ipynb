{
  "nbformat": 4,
  "nbformat_minor": 0,
  "metadata": {
    "colab": {
      "name": "PyTorch.ipynb",
      "version": "0.3.2",
      "views": {},
      "default_view": {},
      "provenance": [],
      "collapsed_sections": []
    },
    "kernelspec": {
      "display_name": "Python 3",
      "name": "python3",
      "language": "python"
    },
    "accelerator": "GPU"
  },
  "cells": [
    {
      "metadata": {
        "id": "TJVN-nWuzfbL",
        "colab_type": "text"
      },
      "cell_type": "markdown",
      "source": [
        "# Training a ConvNet PyTorch\n",
        "\n",
        "In this notebook, you'll learn how to use the powerful PyTorch framework to specify a conv net architecture and train it on the CIFAR-10 dataset."
      ]
    },
    {
      "metadata": {
        "id": "ABb0d1RdzgfE",
        "colab_type": "code",
        "colab": {
          "autoexec": {
            "startup": false,
            "wait_interval": 0
          },
          "base_uri": "https://localhost:8080/",
          "height": 122
        },
        "outputId": "3944115f-c927-4a3b-d3dc-8e923c374e42",
        "executionInfo": {
          "status": "ok",
          "timestamp": 1525263808379,
          "user_tz": -120,
          "elapsed": 3741,
          "user": {
            "displayName": "Ahmed Hassaan",
            "photoUrl": "//lh4.googleusercontent.com/-Q6az9v3i4Ws/AAAAAAAAAAI/AAAAAAAAALw/cibHIIxzIqY/s50-c-k-no/photo.jpg",
            "userId": "114526772695805131272"
          }
        }
      },
      "cell_type": "code",
      "source": [
        "! pip3 install torch torchvision"
      ],
      "execution_count": 1,
      "outputs": [
        {
          "output_type": "stream",
          "text": [
            "Requirement already satisfied: torch in /usr/local/lib/python3.6/dist-packages (0.4.0)\r\n",
            "Requirement already satisfied: torchvision in /usr/local/lib/python3.6/dist-packages (0.2.1)\n",
            "Requirement already satisfied: numpy in /usr/local/lib/python3.6/dist-packages (from torchvision) (1.14.3)\n",
            "Requirement already satisfied: six in /usr/local/lib/python3.6/dist-packages (from torchvision) (1.11.0)\n",
            "Requirement already satisfied: pillow>=4.1.1 in /usr/local/lib/python3.6/dist-packages (from torchvision) (5.1.0)\n"
          ],
          "name": "stdout"
        }
      ]
    },
    {
      "metadata": {
        "id": "YWkz4PUMzfbN",
        "colab_type": "code",
        "colab": {
          "autoexec": {
            "startup": false,
            "wait_interval": 0
          }
        }
      },
      "cell_type": "code",
      "source": [
        "import torch\n",
        "import torch.nn as nn\n",
        "import torch.optim as optim\n",
        "from torch.autograd import Variable\n",
        "from torch.utils.data import DataLoader\n",
        "from torch.utils.data import sampler\n",
        "\n",
        "import torchvision.datasets as dset\n",
        "import torchvision.transforms as T\n",
        "\n",
        "import numpy as np\n",
        "\n",
        "import timeit"
      ],
      "execution_count": 0,
      "outputs": []
    },
    {
      "metadata": {
        "id": "nNyrulO2zfbR",
        "colab_type": "text"
      },
      "cell_type": "markdown",
      "source": [
        "## What's this PyTorch business?\n",
        "\n",
        "You've written a lot of code in this assignment to provide a whole host of neural network functionality. Dropout, Batch Norm, and 2D convolutions are some of the workhorses of deep learning in computer vision. You've also worked hard to make your code efficient and vectorized.\n",
        "\n",
        "For the last part of this assignment, though, we're going to leave behind your beautiful codebase and instead migrate to one of two popular deep learning frameworks: in this instance, PyTorch (or TensorFlow, if you switch over to that notebook). \n",
        "\n",
        "Why?\n",
        "\n",
        "* Our code will now run on GPUs! Much faster training. When using a framework like PyTorch or TensorFlow you can harness the power of the GPU for your own custom neural network architectures without having to write CUDA code directly (which is beyond the scope of this class).\n",
        "* We want you to be ready to use one of these frameworks for your project so you can experiment more efficiently than if you were writing every feature you want to use by hand. \n",
        "* We want you to stand on the shoulders of giants! TensorFlow and PyTorch are both excellent frameworks that will make your lives a lot easier, and now that you understand their guts, you are free to use them :) \n",
        "* We want you to be exposed to the sort of deep learning code you might run into in academia or industry. "
      ]
    },
    {
      "metadata": {
        "id": "Mwj6Tr6FzfbT",
        "colab_type": "text"
      },
      "cell_type": "markdown",
      "source": [
        "## How will I learn PyTorch?\n",
        "\n",
        "If you've used Torch before, but are new to PyTorch, this tutorial might be of use: http://pytorch.org/tutorials/beginner/former_torchies_tutorial.html\n",
        "\n",
        "Otherwise, this notebook will walk you through much of what you need to do to train models in Torch. See the end of the notebook for some links to helpful tutorials if you want to learn more or need further clarification on topics that aren't fully explained here."
      ]
    },
    {
      "metadata": {
        "id": "vp0UCr6uzfbU",
        "colab_type": "text"
      },
      "cell_type": "markdown",
      "source": [
        "## Load Datasets\n",
        "\n",
        "We load the CIFAR-10 dataset. This might take a couple minutes the first time you do it, but the files should stay cached after that."
      ]
    },
    {
      "metadata": {
        "id": "SMDPHzjvzfbV",
        "colab_type": "code",
        "colab": {
          "autoexec": {
            "startup": false,
            "wait_interval": 0
          },
          "base_uri": "https://localhost:8080/",
          "height": 68
        },
        "outputId": "1b43bbb6-2ad6-4863-9424-ce66df77f228",
        "executionInfo": {
          "status": "ok",
          "timestamp": 1525264439349,
          "user_tz": -120,
          "elapsed": 3366,
          "user": {
            "displayName": "Ahmed Hassaan",
            "photoUrl": "//lh4.googleusercontent.com/-Q6az9v3i4Ws/AAAAAAAAAAI/AAAAAAAAALw/cibHIIxzIqY/s50-c-k-no/photo.jpg",
            "userId": "114526772695805131272"
          }
        }
      },
      "cell_type": "code",
      "source": [
        "class ChunkSampler(sampler.Sampler):\n",
        "    \"\"\"Samples elements sequentially from some offset. \n",
        "    Arguments:\n",
        "        num_samples: # of desired datapoints\n",
        "        start: offset where we should start selecting from\n",
        "    \"\"\"\n",
        "    def __init__(self, num_samples, start = 0):\n",
        "        self.num_samples = num_samples\n",
        "        self.start = start\n",
        "\n",
        "    def __iter__(self):\n",
        "        return iter(range(self.start, self.start + self.num_samples))\n",
        "\n",
        "    def __len__(self):\n",
        "        return self.num_samples\n",
        "\n",
        "NUM_TRAIN = 49000\n",
        "NUM_VAL = 1000\n",
        "\n",
        "cifar10_train = dset.CIFAR10('./cs231n/datasets', train=True, download=True,\n",
        "                           transform=T.ToTensor())\n",
        "loader_train = DataLoader(cifar10_train, batch_size=64, sampler=ChunkSampler(NUM_TRAIN, 0))\n",
        "\n",
        "cifar10_val = dset.CIFAR10('./cs231n/datasets', train=True, download=True,\n",
        "                           transform=T.ToTensor())\n",
        "loader_val = DataLoader(cifar10_val, batch_size=64, sampler=ChunkSampler(NUM_VAL, NUM_TRAIN))\n",
        "\n",
        "cifar10_test = dset.CIFAR10('./cs231n/datasets', train=False, download=True,\n",
        "                          transform=T.ToTensor())\n",
        "loader_test = DataLoader(cifar10_test, batch_size=64)\n"
      ],
      "execution_count": 3,
      "outputs": [
        {
          "output_type": "stream",
          "text": [
            "Files already downloaded and verified\n",
            "Files already downloaded and verified\n",
            "Files already downloaded and verified\n"
          ],
          "name": "stdout"
        }
      ]
    },
    {
      "metadata": {
        "id": "l72QRGyAzfbZ",
        "colab_type": "text"
      },
      "cell_type": "markdown",
      "source": [
        "For now, we're going to use a CPU-friendly datatype. Later, we'll switch to a datatype that will move all our computations to the GPU and measure the speedup."
      ]
    },
    {
      "metadata": {
        "id": "f7l1Htxazfba",
        "colab_type": "code",
        "colab": {
          "autoexec": {
            "startup": false,
            "wait_interval": 0
          }
        }
      },
      "cell_type": "code",
      "source": [
        "dtype = torch.FloatTensor # the CPU datatype\n",
        "\n",
        "# Constant to control how frequently we print train loss\n",
        "print_every = 100\n",
        "\n",
        "# This is a little utility that we'll use to reset the model\n",
        "# if we want to re-initialize all our parameters\n",
        "def reset(m):\n",
        "    if hasattr(m, 'reset_parameters'):\n",
        "        m.reset_parameters()"
      ],
      "execution_count": 0,
      "outputs": []
    },
    {
      "metadata": {
        "id": "6s_kecY9zfbe",
        "colab_type": "text"
      },
      "cell_type": "markdown",
      "source": [
        "## Example Model\n",
        "\n",
        "### Some assorted tidbits\n",
        "\n",
        "Let's start by looking at a simple model. First, note that PyTorch operates on Tensors, which are n-dimensional arrays functionally analogous to numpy's ndarrays, with the additional feature that they can be used for computations on GPUs.\n",
        "\n",
        "We'll provide you with a Flatten function, which we explain here. Remember that our image data (and more relevantly, our intermediate feature maps) are initially N x C x H x W, where:\n",
        "* N is the number of datapoints\n",
        "* C is the number of channels\n",
        "* H is the height of the intermediate feature map in pixels\n",
        "* W is the height of the intermediate feature map in pixels\n",
        "\n",
        "This is the right way to represent the data when we are doing something like a 2D convolution, that needs spatial understanding of where the intermediate features are relative to each other. When we input  data into fully connected affine layers, however, we want each datapoint to be represented by a single vector -- it's no longer useful to segregate the different channels, rows, and columns of the data. So, we use a \"Flatten\" operation to collapse the C x H x W values per representation into a single long vector. The Flatten function below first reads in the N, C, H, and W values from a given batch of data, and then returns a \"view\" of that data. \"View\" is analogous to numpy's \"reshape\" method: it reshapes x's dimensions to be N x ??, where ?? is allowed to be anything (in this case, it will be C x H x W, but we don't need to specify that explicitly). "
      ]
    },
    {
      "metadata": {
        "id": "cniSP2PEzfbf",
        "colab_type": "code",
        "colab": {
          "autoexec": {
            "startup": false,
            "wait_interval": 0
          }
        }
      },
      "cell_type": "code",
      "source": [
        "class Flatten(nn.Module):\n",
        "    def forward(self, x):\n",
        "        N, C, H, W = x.size() # read in N, C, H, W\n",
        "        return x.view(N, -1)  # \"flatten\" the C * H * W values into a single vector per image"
      ],
      "execution_count": 0,
      "outputs": []
    },
    {
      "metadata": {
        "id": "NWT3JKE0zfbi",
        "colab_type": "text"
      },
      "cell_type": "markdown",
      "source": [
        "### The example model itself\n",
        "\n",
        "The first step to training your own model is defining its architecture.\n",
        "\n",
        "Here's an example of a convolutional neural network defined in PyTorch -- try to understand what each line is doing, remembering that each layer is composed upon the previous layer. We haven't trained anything yet - that'll come next - for now, we want you to understand how everything gets set up.  nn.Sequential is a container which applies each layer\n",
        "one after the other.\n",
        "\n",
        "In that example, you see 2D convolutional layers (Conv2d), ReLU activations, and fully-connected layers (Linear). You also see the Cross-Entropy loss function, and the Adam optimizer being used. \n",
        "\n",
        "Make sure you understand why the parameters of the Linear layer are 5408 and 10.\n"
      ]
    },
    {
      "metadata": {
        "id": "Sjl1mi0Ozfbk",
        "colab_type": "code",
        "colab": {
          "autoexec": {
            "startup": false,
            "wait_interval": 0
          }
        }
      },
      "cell_type": "code",
      "source": [
        "# Here's where we define the architecture of the model... \n",
        "simple_model = nn.Sequential(\n",
        "                nn.Conv2d(3, 32, kernel_size=7, stride=2),\n",
        "                nn.ReLU(inplace=True),\n",
        "                Flatten(), # see above for explanation\n",
        "                nn.Linear(5408, 10), # affine layer\n",
        "              )\n",
        "\n",
        "# Set the type of all data in this model to be FloatTensor \n",
        "simple_model.type(dtype)\n",
        "\n",
        "loss_fn = nn.CrossEntropyLoss().type(dtype)\n",
        "optimizer = optim.Adam(simple_model.parameters(), lr=1e-2) # lr sets the learning rate of the optimizer"
      ],
      "execution_count": 0,
      "outputs": []
    },
    {
      "metadata": {
        "id": "9lNHE_mszfbn",
        "colab_type": "text"
      },
      "cell_type": "markdown",
      "source": [
        "PyTorch supports many other layer types, loss functions, and optimizers - you will experiment with these next. Here's the official API documentation for these (if any of the parameters used above were unclear, this resource will also be helpful). One note: what we call in the class \"spatial batch norm\" is called \"BatchNorm2D\" in PyTorch.\n",
        "\n",
        "* Layers: http://pytorch.org/docs/nn.html\n",
        "* Activations: http://pytorch.org/docs/nn.html#non-linear-activations\n",
        "* Loss functions: http://pytorch.org/docs/nn.html#loss-functions\n",
        "* Optimizers: http://pytorch.org/docs/optim.html#algorithms"
      ]
    },
    {
      "metadata": {
        "id": "CnGpkVcwzfbo",
        "colab_type": "text"
      },
      "cell_type": "markdown",
      "source": [
        "## Training a specific model\n",
        "\n",
        "In this section, we're going to specify a model for you to construct. The goal here isn't to get good performance (that'll be next), but instead to get comfortable with understanding the PyTorch documentation and configuring your own model. \n",
        "\n",
        "Using the code provided above as guidance, and using the following PyTorch documentation, specify a model with the following architecture:\n",
        "\n",
        "* 7x7 Convolutional Layer with 32 filters and stride of 1\n",
        "* ReLU Activation Layer\n",
        "* Spatial Batch Normalization Layer\n",
        "* 2x2 Max Pooling layer with a stride of 2\n",
        "* Affine layer with 1024 output units\n",
        "* ReLU Activation Layer\n",
        "* Affine layer from 1024 input units to 10 outputs\n",
        "\n",
        "And finally, set up a **cross-entropy** loss function and the **RMSprop** learning rule."
      ]
    },
    {
      "metadata": {
        "id": "60y7MMDJzfbq",
        "colab_type": "code",
        "colab": {
          "autoexec": {
            "startup": false,
            "wait_interval": 0
          }
        }
      },
      "cell_type": "code",
      "source": [
        "fixed_model_base = nn.Sequential(\n",
        "    nn.Conv2d(3, 32, kernel_size=7, stride=1),\n",
        "    nn.ReLU(inplace=True),\n",
        "    nn.BatchNorm2d(32),\n",
        "    nn.MaxPool2d(2, stride=2),\n",
        "    Flatten(),\n",
        "    nn.Linear(5408, 1024),\n",
        "    nn.ReLU(inplace=True),\n",
        "    nn.Linear(1024, 10)\n",
        "            )\n",
        "\n",
        "fixed_model = fixed_model_base.type(dtype)"
      ],
      "execution_count": 0,
      "outputs": []
    },
    {
      "metadata": {
        "id": "mBLCJIGizfbu",
        "colab_type": "text"
      },
      "cell_type": "markdown",
      "source": [
        "To make sure you're doing the right thing, use the following tool to check the dimensionality of your output (it should be 64 x 10, since our batches have size 64 and the output of the final affine layer should be 10, corresponding to our 10 classes):"
      ]
    },
    {
      "metadata": {
        "id": "WlxZpvCfzfbw",
        "colab_type": "code",
        "colab": {
          "autoexec": {
            "startup": false,
            "wait_interval": 0
          },
          "base_uri": "https://localhost:8080/",
          "height": 34
        },
        "outputId": "1128655d-b943-4791-f7c4-7f15bc41f030",
        "executionInfo": {
          "status": "ok",
          "timestamp": 1525264450902,
          "user_tz": -120,
          "elapsed": 753,
          "user": {
            "displayName": "Ahmed Hassaan",
            "photoUrl": "//lh4.googleusercontent.com/-Q6az9v3i4Ws/AAAAAAAAAAI/AAAAAAAAALw/cibHIIxzIqY/s50-c-k-no/photo.jpg",
            "userId": "114526772695805131272"
          }
        }
      },
      "cell_type": "code",
      "source": [
        "## Now we're going to feed a random batch into the model you defined and make sure the output is the right size\n",
        "x = torch.randn(64, 3, 32, 32).type(dtype)\n",
        "x_var = Variable(x.type(dtype)) # Construct a PyTorch Variable out of your input data\n",
        "ans = fixed_model(x_var)        # Feed it through the model! \n",
        "\n",
        "# Check to make sure what comes out of your model\n",
        "# is the right dimensionality... this should be True\n",
        "# if you've done everything correctly\n",
        "np.array_equal(np.array(ans.size()), np.array([64, 10]))       "
      ],
      "execution_count": 8,
      "outputs": [
        {
          "output_type": "execute_result",
          "data": {
            "text/plain": [
              "True"
            ]
          },
          "metadata": {
            "tags": []
          },
          "execution_count": 8
        }
      ]
    },
    {
      "metadata": {
        "id": "KVDqMjsmzfb0",
        "colab_type": "text"
      },
      "cell_type": "markdown",
      "source": [
        "### GPU!\n",
        "\n",
        "Now, we're going to switch the dtype of the model and our data to the GPU-friendly tensors, and see what happens... everything is the same, except we are casting our model and input tensors as this new dtype instead of the old one.\n",
        "\n",
        "If this returns false, or otherwise fails in a not-graceful way (i.e., with some error message), you may not have an NVIDIA GPU available on your machine. If you're running locally, we recommend you switch to Google Cloud and follow the instructions to set up a GPU there. If you're already on Google Cloud, something is wrong -- make sure you followed the instructions on how to request and use a GPU on your instance. If you did, post on Piazza or come to Office Hours so we can help you debug."
      ]
    },
    {
      "metadata": {
        "id": "PQJl5Xjzzfb1",
        "colab_type": "code",
        "colab": {
          "autoexec": {
            "startup": false,
            "wait_interval": 0
          },
          "base_uri": "https://localhost:8080/",
          "height": 34
        },
        "outputId": "ee1bec58-4467-4ea8-9214-cd4ce68a1eb9",
        "executionInfo": {
          "status": "ok",
          "timestamp": 1525264452734,
          "user_tz": -120,
          "elapsed": 609,
          "user": {
            "displayName": "Ahmed Hassaan",
            "photoUrl": "//lh4.googleusercontent.com/-Q6az9v3i4Ws/AAAAAAAAAAI/AAAAAAAAALw/cibHIIxzIqY/s50-c-k-no/photo.jpg",
            "userId": "114526772695805131272"
          }
        }
      },
      "cell_type": "code",
      "source": [
        "# Verify that CUDA is properly configured and you have a GPU available\n",
        "\n",
        "torch.cuda.is_available()"
      ],
      "execution_count": 9,
      "outputs": [
        {
          "output_type": "execute_result",
          "data": {
            "text/plain": [
              "True"
            ]
          },
          "metadata": {
            "tags": []
          },
          "execution_count": 9
        }
      ]
    },
    {
      "metadata": {
        "id": "JkNZYPQqzfb5",
        "colab_type": "code",
        "colab": {
          "autoexec": {
            "startup": false,
            "wait_interval": 0
          },
          "base_uri": "https://localhost:8080/",
          "height": 34
        },
        "outputId": "d3f5704e-c972-4d9b-9a33-3b1cd910577e",
        "executionInfo": {
          "status": "ok",
          "timestamp": 1525264458104,
          "user_tz": -120,
          "elapsed": 4702,
          "user": {
            "displayName": "Ahmed Hassaan",
            "photoUrl": "//lh4.googleusercontent.com/-Q6az9v3i4Ws/AAAAAAAAAAI/AAAAAAAAALw/cibHIIxzIqY/s50-c-k-no/photo.jpg",
            "userId": "114526772695805131272"
          }
        }
      },
      "cell_type": "code",
      "source": [
        "import copy\n",
        "gpu_dtype = torch.cuda.FloatTensor\n",
        "\n",
        "fixed_model_gpu = copy.deepcopy(fixed_model_base).type(gpu_dtype)\n",
        "\n",
        "x_gpu = torch.randn(64, 3, 32, 32).type(gpu_dtype)\n",
        "x_var_gpu = Variable(x.type(gpu_dtype)) # Construct a PyTorch Variable out of your input data\n",
        "ans = fixed_model_gpu(x_var_gpu)        # Feed it through the model! \n",
        "\n",
        "# Check to make sure what comes out of your model\n",
        "# is the right dimensionality... this should be True\n",
        "# if you've done everything correctly\n",
        "np.array_equal(np.array(ans.size()), np.array([64, 10]))"
      ],
      "execution_count": 10,
      "outputs": [
        {
          "output_type": "execute_result",
          "data": {
            "text/plain": [
              "True"
            ]
          },
          "metadata": {
            "tags": []
          },
          "execution_count": 10
        }
      ]
    },
    {
      "metadata": {
        "id": "Yh6ApNdYzfb-",
        "colab_type": "text"
      },
      "cell_type": "markdown",
      "source": [
        "Run the following cell to evaluate the performance of the forward pass running on the CPU:"
      ]
    },
    {
      "metadata": {
        "id": "W5e2bkORzfb_",
        "colab_type": "code",
        "colab": {
          "autoexec": {
            "startup": false,
            "wait_interval": 0
          },
          "base_uri": "https://localhost:8080/",
          "height": 34
        },
        "outputId": "d5ddffb5-24f1-4bbe-ddb7-6c5354dfdcd4",
        "executionInfo": {
          "status": "ok",
          "timestamp": 1525264461625,
          "user_tz": -120,
          "elapsed": 3074,
          "user": {
            "displayName": "Ahmed Hassaan",
            "photoUrl": "//lh4.googleusercontent.com/-Q6az9v3i4Ws/AAAAAAAAAAI/AAAAAAAAALw/cibHIIxzIqY/s50-c-k-no/photo.jpg",
            "userId": "114526772695805131272"
          }
        }
      },
      "cell_type": "code",
      "source": [
        "%%timeit \n",
        "ans = fixed_model(x_var)"
      ],
      "execution_count": 11,
      "outputs": [
        {
          "output_type": "stream",
          "text": [
            "10 loops, best of 3: 55.4 ms per loop\n"
          ],
          "name": "stdout"
        }
      ]
    },
    {
      "metadata": {
        "id": "YG8D5tapzfcD",
        "colab_type": "text"
      },
      "cell_type": "markdown",
      "source": [
        "... and now the GPU:"
      ]
    },
    {
      "metadata": {
        "id": "hMy3MaNgzfcE",
        "colab_type": "code",
        "colab": {
          "autoexec": {
            "startup": false,
            "wait_interval": 0
          },
          "base_uri": "https://localhost:8080/",
          "height": 71
        },
        "outputId": "8e8f5b54-3b9c-4d33-f9fe-b7817c27201a",
        "executionInfo": {
          "status": "ok",
          "timestamp": 1525264464630,
          "user_tz": -120,
          "elapsed": 1690,
          "user": {
            "displayName": "Ahmed Hassaan",
            "photoUrl": "//lh4.googleusercontent.com/-Q6az9v3i4Ws/AAAAAAAAAAI/AAAAAAAAALw/cibHIIxzIqY/s50-c-k-no/photo.jpg",
            "userId": "114526772695805131272"
          }
        }
      },
      "cell_type": "code",
      "source": [
        "%%timeit \n",
        "torch.cuda.synchronize() # Make sure there are no pending GPU computations\n",
        "ans = fixed_model_gpu(x_var_gpu)        # Feed it through the model! \n",
        "torch.cuda.synchronize() # Make sure there are no pending GPU computations"
      ],
      "execution_count": 12,
      "outputs": [
        {
          "output_type": "stream",
          "text": [
            "The slowest run took 32.55 times longer than the fastest. This could mean that an intermediate result is being cached.\n",
            "100 loops, best of 3: 1.96 ms per loop\n"
          ],
          "name": "stdout"
        }
      ]
    },
    {
      "metadata": {
        "id": "HNjAjTCzzfcI",
        "colab_type": "text"
      },
      "cell_type": "markdown",
      "source": [
        "You should observe that even a simple forward pass like this is significantly faster on the GPU. So for the rest of the assignment (and when you go train your models in assignment 3 and your project!), you should use the GPU datatype for your model and your tensors: as a reminder that is *torch.cuda.FloatTensor* (in our notebook here as *gpu_dtype*)"
      ]
    },
    {
      "metadata": {
        "id": "UiRcb3tCzfcJ",
        "colab_type": "text"
      },
      "cell_type": "markdown",
      "source": [
        "### Train the model.\n",
        "\n",
        "Now that you've seen how to define a model and do a single forward pass of some data through it, let's  walk through how you'd actually train one whole epoch over your training data (using the simple_model we provided above).\n",
        "\n",
        "Make sure you understand how each PyTorch function used below corresponds to what you implemented in your custom neural network implementation.\n",
        "\n",
        "Note that because we are not resetting the weights anywhere below, if you run the cell multiple times, you are effectively training multiple epochs (so your performance should improve).\n",
        "\n",
        "First, set up an RMSprop optimizer (using a 1e-3 learning rate) and a cross-entropy loss function:"
      ]
    },
    {
      "metadata": {
        "id": "VngNcd5_zfcK",
        "colab_type": "code",
        "colab": {
          "autoexec": {
            "startup": false,
            "wait_interval": 0
          }
        }
      },
      "cell_type": "code",
      "source": [
        "loss_fn = nn.CrossEntropyLoss().type(gpu_dtype)\n",
        "optimizer = optim.RMSprop(fixed_model_gpu.parameters(), lr=1e-3)\n",
        "pass\n"
      ],
      "execution_count": 0,
      "outputs": []
    },
    {
      "metadata": {
        "id": "ucckX3eezfcO",
        "colab_type": "code",
        "colab": {
          "autoexec": {
            "startup": false,
            "wait_interval": 0
          },
          "base_uri": "https://localhost:8080/",
          "height": 190
        },
        "outputId": "b7762593-3cd7-40c5-8d9f-c090d3a70ad8",
        "executionInfo": {
          "status": "ok",
          "timestamp": 1525264480433,
          "user_tz": -120,
          "elapsed": 11473,
          "user": {
            "displayName": "Ahmed Hassaan",
            "photoUrl": "//lh4.googleusercontent.com/-Q6az9v3i4Ws/AAAAAAAAAAI/AAAAAAAAALw/cibHIIxzIqY/s50-c-k-no/photo.jpg",
            "userId": "114526772695805131272"
          }
        }
      },
      "cell_type": "code",
      "source": [
        "# This sets the model in \"training\" mode. This is relevant for some layers that may have different behavior\n",
        "# in training mode vs testing mode, such as Dropout and BatchNorm. \n",
        "fixed_model_gpu.train()\n",
        "\n",
        "# Load one batch at a time.\n",
        "for t, (x, y) in enumerate(loader_train):\n",
        "    x_var = Variable(x.type(gpu_dtype))\n",
        "    y_var = Variable(y.type(gpu_dtype).long())\n",
        "\n",
        "    # This is the forward pass: predict the scores for each class, for each x in the batch.\n",
        "    scores = fixed_model_gpu(x_var)\n",
        "    \n",
        "    # Use the correct y values and the predicted y values to compute the loss.\n",
        "    loss = loss_fn(scores, y_var)\n",
        "    \n",
        "    if (t + 1) % print_every == 0:\n",
        "        print('t = %d, loss = %.4f' % (t + 1, loss.data[0]))\n",
        "\n",
        "    # Zero out all of the gradients for the variables which the optimizer will update.\n",
        "    optimizer.zero_grad()\n",
        "    \n",
        "    # This is the backwards pass: compute the gradient of the loss with respect to each \n",
        "    # parameter of the model.\n",
        "    loss.backward()\n",
        "    \n",
        "    # Actually update the parameters of the model using the gradients computed by the backwards pass.\n",
        "    optimizer.step()"
      ],
      "execution_count": 14,
      "outputs": [
        {
          "output_type": "stream",
          "text": [
            "/usr/local/lib/python3.6/dist-packages/ipykernel_launcher.py:15: UserWarning: invalid index of a 0-dim tensor. This will be an error in PyTorch 0.5. Use tensor.item() to convert a 0-dim tensor to a Python number\n",
            "  from ipykernel import kernelapp as app\n"
          ],
          "name": "stderr"
        },
        {
          "output_type": "stream",
          "text": [
            "t = 100, loss = 1.3528\n",
            "t = 200, loss = 1.4903\n",
            "t = 300, loss = 1.4450\n",
            "t = 400, loss = 1.2506\n",
            "t = 500, loss = 1.1321\n",
            "t = 600, loss = 1.3497\n",
            "t = 700, loss = 1.3385\n"
          ],
          "name": "stdout"
        }
      ]
    },
    {
      "metadata": {
        "id": "L1_ZHdARzfcR",
        "colab_type": "text"
      },
      "cell_type": "markdown",
      "source": [
        "Now you've seen how the training process works in PyTorch. To save you writing boilerplate code, we're providing the following helper functions to help you train for multiple epochs and check the accuracy of your model:"
      ]
    },
    {
      "metadata": {
        "id": "QPJeAV9szfcS",
        "colab_type": "code",
        "colab": {
          "autoexec": {
            "startup": false,
            "wait_interval": 0
          }
        }
      },
      "cell_type": "code",
      "source": [
        "\n",
        "tr = []\n",
        "val =[]\n",
        "def train(model, loss_fn, optimizer, num_epochs = 1):\n",
        "    for epoch in range(num_epochs):\n",
        "        print('Starting epoch %d / %d' % (epoch + 1, num_epochs))\n",
        "        model.train()\n",
        "        for t, (x, y) in enumerate(loader_train):\n",
        "            x_var = Variable(x.type(gpu_dtype))\n",
        "            y_var = Variable(y.type(gpu_dtype).long())\n",
        "\n",
        "            scores = model(x_var)\n",
        "            \n",
        "            loss = loss_fn(scores, y_var)\n",
        "            if (t + 1) % print_every == 0:\n",
        "                print('t = %d, loss = %.4f' % (t + 1, loss.data[0]))\n",
        "\n",
        "            optimizer.zero_grad()\n",
        "            loss.backward()\n",
        "            optimizer.step()\n",
        "        acc_train = check_accuracy_training(model, loader_train)\n",
        "        acc_val = check_accuracy_training(model, loader_val)\n",
        "        tr.append(acc_train)\n",
        "        val.append(acc_val)\n",
        "        print(\"TRaining acc: {0}\".format(acc_train))\n",
        "        print(\"validation acc: {0}\".format(acc_val))\n",
        "\n",
        "\n",
        "def check_accuracy(model, loader):\n",
        "    if loader.dataset.train:\n",
        "        print('Checking accuracy on validation set')\n",
        "    else:\n",
        "        print('Checking accuracy on test set')   \n",
        "    num_correct = 0\n",
        "    num_samples = 0\n",
        "    model.eval() # Put the model in test mode (the opposite of model.train(), essentially)\n",
        "    for x, y in loader:\n",
        "        x_var = Variable(x.type(gpu_dtype), volatile=True)\n",
        "\n",
        "        scores = model(x_var)\n",
        "        _, preds = scores.data.cpu().max(1)\n",
        "        num_correct += (preds == y).sum()\n",
        "        num_samples += preds.size(0)\n",
        "    acc = float(num_correct) / num_samples\n",
        "    print('Got %d / %d correct (%.2f)' % (num_correct, num_samples, 100 * acc))\n",
        "    \n",
        "def check_accuracy_training(model, loader):\n",
        "    print('Checking accuracy on training set')   \n",
        "    num_correct = 0\n",
        "    num_samples = 0\n",
        "    model.eval() # Put the model in test mode (the opposite of model.train(), essentially)\n",
        "    for x, y in loader:\n",
        "        x_var = Variable(x.type(gpu_dtype), volatile=True)\n",
        "\n",
        "        scores = model(x_var)\n",
        "        _, preds = scores.data.cpu().max(1)\n",
        "        num_correct += (preds == y).sum()\n",
        "        num_samples += preds.size(0)\n",
        "    acc = float(num_correct) / num_samples\n",
        "    return acc * 100"
      ],
      "execution_count": 0,
      "outputs": []
    },
    {
      "metadata": {
        "id": "EQ_g3iSyzfcV",
        "colab_type": "text"
      },
      "cell_type": "markdown",
      "source": [
        "### Check the accuracy of the model.\n",
        "\n",
        "Let's see the train and check_accuracy code in action -- feel free to use these methods when evaluating the models you develop below.\n",
        "\n",
        "You should get a training loss of around 1.2-1.4, and a validation accuracy of around 50-60%. As mentioned above, if you re-run the cells, you'll be training more epochs, so your performance will improve past these numbers.\n",
        "\n",
        "But don't worry about getting these numbers better -- this was just practice before you tackle designing your own model."
      ]
    },
    {
      "metadata": {
        "id": "ydcAeESzzfcX",
        "colab_type": "code",
        "colab": {
          "autoexec": {
            "startup": false,
            "wait_interval": 0
          },
          "base_uri": "https://localhost:8080/",
          "height": 258
        },
        "outputId": "724d6926-da41-460b-ef3c-f532d1f46755",
        "executionInfo": {
          "status": "ok",
          "timestamp": 1525269344101,
          "user_tz": -120,
          "elapsed": 10935,
          "user": {
            "displayName": "Ahmed Hassaan",
            "photoUrl": "//lh4.googleusercontent.com/-Q6az9v3i4Ws/AAAAAAAAAAI/AAAAAAAAALw/cibHIIxzIqY/s50-c-k-no/photo.jpg",
            "userId": "114526772695805131272"
          }
        }
      },
      "cell_type": "code",
      "source": [
        "torch.cuda.random.manual_seed(12345)\n",
        "fixed_model_gpu.apply(reset)\n",
        "train(fixed_model_gpu, loss_fn, optimizer, num_epochs=1)\n",
        "check_accuracy(fixed_model_gpu, loader_val)"
      ],
      "execution_count": 31,
      "outputs": [
        {
          "output_type": "stream",
          "text": [
            "Starting epoch 1 / 1\n"
          ],
          "name": "stdout"
        },
        {
          "output_type": "stream",
          "text": [
            "/usr/local/lib/python3.6/dist-packages/ipykernel_launcher.py:13: UserWarning: invalid index of a 0-dim tensor. This will be an error in PyTorch 0.5. Use tensor.item() to convert a 0-dim tensor to a Python number\n",
            "  del sys.path[0]\n"
          ],
          "name": "stderr"
        },
        {
          "output_type": "stream",
          "text": [
            "t = 100, loss = 1.5100\n",
            "t = 200, loss = 1.5311\n",
            "t = 300, loss = 1.5283\n",
            "t = 400, loss = 1.2966\n",
            "t = 500, loss = 1.1826\n",
            "t = 600, loss = 1.4540\n",
            "t = 700, loss = 1.2900\n",
            "Checking accuracy on validation set\n",
            "Got 552 / 1000 correct (55.20)\n"
          ],
          "name": "stdout"
        },
        {
          "output_type": "stream",
          "text": [
            "/usr/local/lib/python3.6/dist-packages/ipykernel_launcher.py:28: UserWarning: volatile was removed and now has no effect. Use `with torch.no_grad():` instead.\n"
          ],
          "name": "stderr"
        }
      ]
    },
    {
      "metadata": {
        "id": "H3thGhNBzfcc",
        "colab_type": "text"
      },
      "cell_type": "markdown",
      "source": [
        "### Don't forget the validation set!\n",
        "\n",
        "And note that you can use the check_accuracy function to evaluate on either the test set or the validation set, by passing either **loader_test** or **loader_val** as the second argument to check_accuracy. You should not touch the test set until you have finished your architecture and hyperparameter tuning, and only run the test set once at the end to report a final value. "
      ]
    },
    {
      "metadata": {
        "id": "TSUyRrVYzfcd",
        "colab_type": "text"
      },
      "cell_type": "markdown",
      "source": [
        "## Train a _great_ model on CIFAR-10!\n",
        "\n",
        "Now it's your job to experiment with architectures, hyperparameters, loss functions, and optimizers to train a model that achieves **>=70%** accuracy on the CIFAR-10 **validation** set. You can use the check_accuracy and train functions from above."
      ]
    },
    {
      "metadata": {
        "id": "TEcvuv1Rzfce",
        "colab_type": "text"
      },
      "cell_type": "markdown",
      "source": [
        "### Things you should try:\n",
        "- **Filter size**: Above we used 7x7; this makes pretty pictures but smaller filters may be more efficient\n",
        "- **Number of filters**: Above we used 32 filters. Do more or fewer do better?\n",
        "- **Pooling vs Strided Convolution**: Do you use max pooling or just stride convolutions?\n",
        "- **Batch normalization**: Try adding spatial batch normalization after convolution layers and vanilla batch normalization after affine layers. Do your networks train faster?\n",
        "- **Network architecture**: The network above has two layers of trainable parameters. Can you do better with a deep network? Good architectures to try include:\n",
        "    - [conv-relu-pool]xN -> [affine]xM -> [softmax or SVM]\n",
        "    - [conv-relu-conv-relu-pool]xN -> [affine]xM -> [softmax or SVM]\n",
        "    - [batchnorm-relu-conv]xN -> [affine]xM -> [softmax or SVM]\n",
        "- **Global Average Pooling**: Instead of flattening and then having multiple affine layers, perform convolutions until your image gets small (7x7 or so) and then perform an average pooling operation to get to a 1x1 image picture (1, 1 , Filter#), which is then reshaped into a (Filter#) vector. This is used in [Google's Inception Network](https://arxiv.org/abs/1512.00567) (See Table 1 for their architecture).\n",
        "- **Regularization**: Add l2 weight regularization, or perhaps use Dropout.\n",
        "\n",
        "### Tips for training\n",
        "For each network architecture that you try, you should tune the learning rate and regularization strength. When doing this there are a couple important things to keep in mind:\n",
        "\n",
        "- If the parameters are working well, you should see improvement within a few hundred iterations\n",
        "- Remember the coarse-to-fine approach for hyperparameter tuning: start by testing a large range of hyperparameters for just a few training iterations to find the combinations of parameters that are working at all.\n",
        "- Once you have found some sets of parameters that seem to work, search more finely around these parameters. You may need to train for more epochs.\n",
        "- You should use the validation set for hyperparameter search, and save your test set for evaluating your architecture on the best parameters as selected by the validation set.\n",
        "\n",
        "### Going above and beyond\n",
        "If you are feeling adventurous there are many other features you can implement to try and improve your performance. You are **not required** to implement any of these; however they would be good things to try for extra credit.\n",
        "\n",
        "- Alternative update steps: For the assignment we implemented SGD+momentum, RMSprop, and Adam; you could try alternatives like AdaGrad or AdaDelta.\n",
        "- Alternative activation functions such as leaky ReLU, parametric ReLU, ELU, or MaxOut.\n",
        "- Model ensembles\n",
        "- Data augmentation\n",
        "- New Architectures\n",
        "  - [ResNets](https://arxiv.org/abs/1512.03385) where the input from the previous layer is added to the output.\n",
        "  - [DenseNets](https://arxiv.org/abs/1608.06993) where inputs into previous layers are concatenated together.\n",
        "  - [This blog has an in-depth overview](https://chatbotslife.com/resnets-highwaynets-and-densenets-oh-my-9bb15918ee32)\n",
        "\n",
        "If you do decide to implement something extra, clearly describe it in the \"Extra Credit Description\" cell below.\n",
        "\n",
        "### What we expect\n",
        "At the very least, you should be able to train a ConvNet that gets at least 70% accuracy on the validation set. This is just a lower bound - if you are careful it should be possible to get accuracies much higher than that! Extra credit points will be awarded for particularly high-scoring models or unique approaches.\n",
        "\n",
        "You should use the space below to experiment and train your network. \n",
        "\n",
        "Have fun and happy training!"
      ]
    },
    {
      "metadata": {
        "id": "hcqK7ABt0Qpf",
        "colab_type": "code",
        "colab": {
          "autoexec": {
            "startup": false,
            "wait_interval": 0
          }
        }
      },
      "cell_type": "code",
      "source": [
        "# loader_train\n",
        "# loader_val\n",
        "class Conv_relu_pool2(nn.Module):\n",
        "  def __init__(self, in_ch, out_ch):\n",
        "    super(Conv_relu_pool2, self).__init__()\n",
        "    self.conv = nn.Sequential(\n",
        "        nn.Conv2d(in_ch, out_ch, 3, padding=1),\n",
        "        nn.BatchNorm2d(out_ch),\n",
        "        nn.ReLU(inplace=True),\n",
        "        nn.Conv2d(out_ch, out_ch, 3, padding=1),\n",
        "        nn.BatchNorm2d(out_ch),\n",
        "        nn.ReLU(inplace=True),\n",
        "        nn.MaxPool2d(2)\n",
        "    )\n",
        "  def forward(self, x):\n",
        "    x = self.conv(x)\n",
        "    return x\n",
        "\n",
        "class Fully_connected_relu(nn.Module):\n",
        "  def __init__(self, in_ch, out_ch):\n",
        "    super(Fully_connected_relu, self).__init__()\n",
        "    self.fc = nn.Sequential(\n",
        "        nn.Linear(in_ch, out_ch),\n",
        "        nn.ReLU(inplace=True)\n",
        "    )\n",
        "  def forward(self, x):\n",
        "    x = self.fc(x)\n",
        "    return x"
      ],
      "execution_count": 0,
      "outputs": []
    },
    {
      "metadata": {
        "id": "kZZ6OIiT0W3V",
        "colab_type": "code",
        "colab": {
          "autoexec": {
            "startup": false,
            "wait_interval": 0
          }
        }
      },
      "cell_type": "code",
      "source": [
        "class Hassaan(nn.Module):\n",
        "  def __init__(self, n_channels, n_classes):\n",
        "    super(Hassaan, self).__init__()\n",
        "    self.conv1 = Conv_relu_pool2(n_channels, 64)\n",
        "    self.conv2 = Conv_relu_pool2(64, 128)       \n",
        "    self.conv3 = Conv_relu_pool2(128, 256)             \n",
        "    self.fc1 = Fully_connected_relu(8192, 2048)\n",
        "    self.fc2 = Fully_connected_relu(2048, 1024)\n",
        "    self.fc3 = Fully_connected_relu(1024, n_classes)\n",
        "    \n",
        "  def forward(self, x):\n",
        "    x1 = self.conv1(x)            # 16 * 16 * 64\n",
        "    x2 = self.conv2(x1)           # 8 * 8 * 128\n",
        "#     x3 = self.conv3(x2)           # 4 * 4 * 256\n",
        "    x4 = x2.view(x.size(0), -1)              # 4096\n",
        "    x5 = self.fc1(x4)\n",
        "    x6 = self.fc2(x5)\n",
        "    x7 = self.fc3(x6)\n",
        "    return x7"
      ],
      "execution_count": 0,
      "outputs": []
    },
    {
      "metadata": {
        "id": "nYO_UM2Jzfcf",
        "colab_type": "code",
        "colab": {
          "autoexec": {
            "startup": false,
            "wait_interval": 0
          },
          "base_uri": "https://localhost:8080/",
          "height": 10339
        },
        "outputId": "8adb6d47-c9ae-4b81-eb02-09913d4b2764",
        "executionInfo": {
          "status": "ok",
          "timestamp": 1525278468647,
          "user_tz": -120,
          "elapsed": 3679987,
          "user": {
            "displayName": "Ahmed Hassaan",
            "photoUrl": "//lh4.googleusercontent.com/-Q6az9v3i4Ws/AAAAAAAAAAI/AAAAAAAAALw/cibHIIxzIqY/s50-c-k-no/photo.jpg",
            "userId": "114526772695805131272"
          }
        }
      },
      "cell_type": "code",
      "source": [
        "# Train your model here, and make sure the output of this cell is the accuracy of your best model on the \n",
        "# train, val, and test sets. Here's some code to get you started. The output of this cell should be the training\n",
        "# and validation accuracy on your best model (measured by validation accuracy).\n",
        "\n",
        "# model = Hassaan(3,10)\n",
        "model = nn.Sequential(\n",
        "    nn.Conv2d(3, 64, 3, padding=1),\n",
        "    nn.BatchNorm2d(64),\n",
        "    nn.ReLU(inplace=True),\n",
        "    nn.Conv2d(64, 64, 3, padding=1),\n",
        "    nn.BatchNorm2d(64),\n",
        "    nn.ReLU(inplace=True),\n",
        "    nn.MaxPool2d(2),\n",
        "    nn.Conv2d(64, 128, 3, padding=1),\n",
        "    nn.BatchNorm2d(128),\n",
        "    nn.ReLU(inplace=True),\n",
        "    nn.Conv2d(128, 128, 3, padding=1),\n",
        "    nn.BatchNorm2d(128),\n",
        "    nn.ReLU(inplace=True),\n",
        "    nn.MaxPool2d(2),\n",
        "    Flatten(),\n",
        "    nn.Linear(8192, 2048),\n",
        "    nn.BatchNorm1d(2048),\n",
        "    nn.ReLU(inplace=True),\n",
        "    nn.Dropout(0.5),\n",
        "    nn.Linear(2048, 512),\n",
        "    nn.BatchNorm1d(512),\n",
        "    nn.ReLU(inplace=True),\n",
        "    nn.Dropout(0.5),\n",
        "    nn.Linear(512, 10)\n",
        "      )\n",
        "model.type(gpu_dtype)\n",
        "model.apply(reset)\n",
        "loss_fn = nn.CrossEntropyLoss().type(gpu_dtype)\n",
        "optimizer = optim.Adam(params=model.parameters(), lr=0.001)\n",
        "\n",
        "train(model, loss_fn, optimizer, num_epochs=50)\n",
        "check_accuracy(model, loader_val)\n",
        "# check_accuracy_training(model, loader_train)"
      ],
      "execution_count": 62,
      "outputs": [
        {
          "output_type": "stream",
          "text": [
            "Starting epoch 1 / 50\n"
          ],
          "name": "stdout"
        },
        {
          "output_type": "stream",
          "text": [
            "/usr/local/lib/python3.6/dist-packages/ipykernel_launcher.py:16: UserWarning: invalid index of a 0-dim tensor. This will be an error in PyTorch 0.5. Use tensor.item() to convert a 0-dim tensor to a Python number\n",
            "  app.launch_new_instance()\n"
          ],
          "name": "stderr"
        },
        {
          "output_type": "stream",
          "text": [
            "t = 100, loss = 1.3655\n",
            "t = 200, loss = 1.3584\n",
            "t = 300, loss = 1.0261\n",
            "t = 400, loss = 0.6944\n",
            "t = 500, loss = 0.8743\n",
            "t = 600, loss = 0.8848\n",
            "t = 700, loss = 1.0794\n",
            "Checking accuracy on training set\n"
          ],
          "name": "stdout"
        },
        {
          "output_type": "stream",
          "text": [
            "/usr/local/lib/python3.6/dist-packages/ipykernel_launcher.py:53: UserWarning: volatile was removed and now has no effect. Use `with torch.no_grad():` instead.\n"
          ],
          "name": "stderr"
        },
        {
          "output_type": "stream",
          "text": [
            "Checking accuracy on training set\n",
            "TRaining acc: 72.0469387755102\n",
            "validation acc: 69.89999999999999\n",
            "Starting epoch 2 / 50\n",
            "t = 100, loss = 0.6341\n",
            "t = 200, loss = 0.7968\n",
            "t = 300, loss = 0.6932\n",
            "t = 400, loss = 0.4564\n",
            "t = 500, loss = 0.7482\n",
            "t = 600, loss = 0.6676\n",
            "t = 700, loss = 0.8238\n",
            "Checking accuracy on training set\n",
            "Checking accuracy on training set\n",
            "TRaining acc: 78.10408163265306\n",
            "validation acc: 74.6\n",
            "Starting epoch 3 / 50\n",
            "t = 100, loss = 0.4981\n",
            "t = 200, loss = 0.5412\n",
            "t = 300, loss = 0.4977\n",
            "t = 400, loss = 0.4468\n",
            "t = 500, loss = 0.5164\n",
            "t = 600, loss = 0.5393\n",
            "t = 700, loss = 0.6198\n",
            "Checking accuracy on training set\n",
            "Checking accuracy on training set\n",
            "TRaining acc: 83.76326530612245\n",
            "validation acc: 77.3\n",
            "Starting epoch 4 / 50\n",
            "t = 100, loss = 0.4489\n",
            "t = 200, loss = 0.5129\n",
            "t = 300, loss = 0.3079\n",
            "t = 400, loss = 0.4517\n",
            "t = 500, loss = 0.3347\n",
            "t = 600, loss = 0.3789\n",
            "t = 700, loss = 0.4086\n",
            "Checking accuracy on training set\n",
            "Checking accuracy on training set\n",
            "TRaining acc: 88.2591836734694\n",
            "validation acc: 78.10000000000001\n",
            "Starting epoch 5 / 50\n",
            "t = 100, loss = 0.2420\n",
            "t = 200, loss = 0.2513\n",
            "t = 300, loss = 0.2820\n",
            "t = 400, loss = 0.2025\n",
            "t = 500, loss = 0.1484\n",
            "t = 600, loss = 0.2536\n",
            "t = 700, loss = 0.4272\n",
            "Checking accuracy on training set\n",
            "Checking accuracy on training set\n",
            "TRaining acc: 92.87346938775511\n",
            "validation acc: 82.0\n",
            "Starting epoch 6 / 50\n",
            "t = 100, loss = 0.1799\n",
            "t = 200, loss = 0.2574\n",
            "t = 300, loss = 0.2516\n",
            "t = 400, loss = 0.1609\n",
            "t = 500, loss = 0.1242\n",
            "t = 600, loss = 0.2138\n",
            "t = 700, loss = 0.3847\n",
            "Checking accuracy on training set\n",
            "Checking accuracy on training set\n",
            "TRaining acc: 95.6734693877551\n",
            "validation acc: 82.8\n",
            "Starting epoch 7 / 50\n",
            "t = 100, loss = 0.1063\n",
            "t = 200, loss = 0.1171\n",
            "t = 300, loss = 0.0623\n",
            "t = 400, loss = 0.1611\n",
            "t = 500, loss = 0.1029\n",
            "t = 600, loss = 0.1529\n",
            "t = 700, loss = 0.1252\n",
            "Checking accuracy on training set\n",
            "Checking accuracy on training set\n",
            "TRaining acc: 96.01020408163265\n",
            "validation acc: 83.8\n",
            "Starting epoch 8 / 50\n",
            "t = 100, loss = 0.0610\n",
            "t = 200, loss = 0.1707\n",
            "t = 300, loss = 0.0926\n",
            "t = 400, loss = 0.0974\n",
            "t = 500, loss = 0.0617\n",
            "t = 600, loss = 0.2717\n",
            "t = 700, loss = 0.0451\n",
            "Checking accuracy on training set\n",
            "Checking accuracy on training set\n",
            "TRaining acc: 96.69183673469388\n",
            "validation acc: 82.8\n",
            "Starting epoch 9 / 50\n",
            "t = 100, loss = 0.1130\n",
            "t = 200, loss = 0.0975\n",
            "t = 300, loss = 0.1310\n",
            "t = 400, loss = 0.0241\n",
            "t = 500, loss = 0.1128\n",
            "t = 600, loss = 0.1396\n",
            "t = 700, loss = 0.1698\n"
          ],
          "name": "stdout"
        },
        {
          "output_type": "stream",
          "text": [
            "Checking accuracy on training set\n",
            "Checking accuracy on training set\n",
            "TRaining acc: 97.63673469387754\n",
            "validation acc: 82.69999999999999\n",
            "Starting epoch 10 / 50\n",
            "t = 100, loss = 0.0833\n",
            "t = 200, loss = 0.0117\n",
            "t = 300, loss = 0.1182\n",
            "t = 400, loss = 0.1026\n",
            "t = 500, loss = 0.0550\n",
            "t = 600, loss = 0.0427\n",
            "t = 700, loss = 0.1377\n",
            "Checking accuracy on training set\n",
            "Checking accuracy on training set\n",
            "TRaining acc: 98.33469387755102\n",
            "validation acc: 83.7\n",
            "Starting epoch 11 / 50\n",
            "t = 100, loss = 0.0910\n",
            "t = 200, loss = 0.0287\n",
            "t = 300, loss = 0.0710\n",
            "t = 400, loss = 0.0319\n",
            "t = 500, loss = 0.0459\n",
            "t = 600, loss = 0.0262\n",
            "t = 700, loss = 0.1466\n",
            "Checking accuracy on training set\n",
            "Checking accuracy on training set\n",
            "TRaining acc: 98.0469387755102\n",
            "validation acc: 80.80000000000001\n",
            "Starting epoch 12 / 50\n",
            "t = 100, loss = 0.0447\n",
            "t = 200, loss = 0.0195\n",
            "t = 300, loss = 0.1330\n",
            "t = 400, loss = 0.0315\n",
            "t = 500, loss = 0.0527\n",
            "t = 600, loss = 0.1180\n",
            "t = 700, loss = 0.1004\n",
            "Checking accuracy on training set\n",
            "Checking accuracy on training set\n",
            "TRaining acc: 98.49795918367347\n",
            "validation acc: 83.5\n",
            "Starting epoch 13 / 50\n",
            "t = 100, loss = 0.0321\n",
            "t = 200, loss = 0.1157\n",
            "t = 300, loss = 0.0397\n",
            "t = 400, loss = 0.0847\n",
            "t = 500, loss = 0.0401\n",
            "t = 600, loss = 0.1100\n",
            "t = 700, loss = 0.0136\n",
            "Checking accuracy on training set\n",
            "Checking accuracy on training set\n",
            "TRaining acc: 98.64285714285714\n",
            "validation acc: 83.6\n",
            "Starting epoch 14 / 50\n",
            "t = 100, loss = 0.0725\n",
            "t = 200, loss = 0.1981\n",
            "t = 300, loss = 0.0126\n",
            "t = 400, loss = 0.1014\n",
            "t = 500, loss = 0.0651\n",
            "t = 600, loss = 0.0221\n",
            "t = 700, loss = 0.1279\n",
            "Checking accuracy on training set\n",
            "Checking accuracy on training set\n",
            "TRaining acc: 99.14081632653061\n",
            "validation acc: 85.0\n",
            "Starting epoch 15 / 50\n",
            "t = 100, loss = 0.0095\n",
            "t = 200, loss = 0.0071\n",
            "t = 300, loss = 0.0080\n",
            "t = 400, loss = 0.0569\n",
            "t = 500, loss = 0.0631\n",
            "t = 600, loss = 0.0441\n",
            "t = 700, loss = 0.0232\n",
            "Checking accuracy on training set\n",
            "Checking accuracy on training set\n",
            "TRaining acc: 99.0734693877551\n",
            "validation acc: 84.2\n",
            "Starting epoch 16 / 50\n",
            "t = 100, loss = 0.0092\n",
            "t = 200, loss = 0.0048\n",
            "t = 300, loss = 0.0087\n",
            "t = 400, loss = 0.0663\n",
            "t = 500, loss = 0.0995\n",
            "t = 600, loss = 0.0285\n",
            "t = 700, loss = 0.0373\n",
            "Checking accuracy on training set\n",
            "Checking accuracy on training set\n",
            "TRaining acc: 98.6265306122449\n",
            "validation acc: 82.19999999999999\n",
            "Starting epoch 17 / 50\n",
            "t = 100, loss = 0.0540\n",
            "t = 200, loss = 0.0115\n",
            "t = 300, loss = 0.0194\n",
            "t = 400, loss = 0.0152\n",
            "t = 500, loss = 0.0170\n",
            "t = 600, loss = 0.0842\n"
          ],
          "name": "stdout"
        },
        {
          "output_type": "stream",
          "text": [
            "t = 700, loss = 0.0033\n",
            "Checking accuracy on training set\n",
            "Checking accuracy on training set\n",
            "TRaining acc: 98.26326530612245\n",
            "validation acc: 82.8\n",
            "Starting epoch 18 / 50\n",
            "t = 100, loss = 0.0036\n",
            "t = 200, loss = 0.0332\n",
            "t = 300, loss = 0.2081\n",
            "t = 400, loss = 0.0183\n",
            "t = 500, loss = 0.0318\n",
            "t = 600, loss = 0.0045\n",
            "t = 700, loss = 0.0723\n",
            "Checking accuracy on training set\n",
            "Checking accuracy on training set\n",
            "TRaining acc: 98.90408163265306\n",
            "validation acc: 83.0\n",
            "Starting epoch 19 / 50\n",
            "t = 100, loss = 0.0325\n",
            "t = 200, loss = 0.0276\n",
            "t = 300, loss = 0.0392\n",
            "t = 400, loss = 0.0705\n",
            "t = 500, loss = 0.0312\n",
            "t = 600, loss = 0.0096\n",
            "t = 700, loss = 0.0502\n",
            "Checking accuracy on training set\n",
            "Checking accuracy on training set\n",
            "TRaining acc: 99.07142857142858\n",
            "validation acc: 84.1\n",
            "Starting epoch 20 / 50\n",
            "t = 100, loss = 0.0239\n",
            "t = 200, loss = 0.1550\n",
            "t = 300, loss = 0.0024\n",
            "t = 400, loss = 0.0751\n",
            "t = 500, loss = 0.0064\n",
            "t = 600, loss = 0.0089\n",
            "t = 700, loss = 0.0135\n",
            "Checking accuracy on training set\n",
            "Checking accuracy on training set\n",
            "TRaining acc: 99.31632653061224\n",
            "validation acc: 84.89999999999999\n",
            "Starting epoch 21 / 50\n",
            "t = 100, loss = 0.0052\n",
            "t = 200, loss = 0.0077\n",
            "t = 300, loss = 0.0612\n",
            "t = 400, loss = 0.0383\n",
            "t = 500, loss = 0.0464\n",
            "t = 600, loss = 0.0106\n",
            "t = 700, loss = 0.0247\n",
            "Checking accuracy on training set\n",
            "Checking accuracy on training set\n",
            "TRaining acc: 99.60408163265306\n",
            "validation acc: 85.5\n",
            "Starting epoch 22 / 50\n",
            "t = 100, loss = 0.0059\n",
            "t = 200, loss = 0.0112\n",
            "t = 300, loss = 0.1676\n",
            "t = 400, loss = 0.0147\n",
            "t = 500, loss = 0.0090\n",
            "t = 600, loss = 0.0308\n",
            "t = 700, loss = 0.0232\n",
            "Checking accuracy on training set\n",
            "Checking accuracy on training set\n",
            "TRaining acc: 99.54081632653062\n",
            "validation acc: 85.6\n",
            "Starting epoch 23 / 50\n",
            "t = 100, loss = 0.0459\n",
            "t = 200, loss = 0.0009\n",
            "t = 300, loss = 0.0213\n",
            "t = 400, loss = 0.0672\n",
            "t = 500, loss = 0.1247\n",
            "t = 600, loss = 0.0043\n",
            "t = 700, loss = 0.0184\n",
            "Checking accuracy on training set\n",
            "Checking accuracy on training set\n",
            "TRaining acc: 99.39591836734694\n",
            "validation acc: 84.0\n",
            "Starting epoch 24 / 50\n",
            "t = 100, loss = 0.0221\n",
            "t = 200, loss = 0.0016\n",
            "t = 300, loss = 0.0037\n",
            "t = 400, loss = 0.0010\n",
            "t = 500, loss = 0.0026\n",
            "t = 600, loss = 0.0043\n",
            "t = 700, loss = 0.0020\n",
            "Checking accuracy on training set\n",
            "Checking accuracy on training set\n",
            "TRaining acc: 99.55102040816325\n",
            "validation acc: 84.1\n",
            "Starting epoch 25 / 50\n",
            "t = 100, loss = 0.0151\n",
            "t = 200, loss = 0.1421\n",
            "t = 300, loss = 0.0598\n",
            "t = 400, loss = 0.0389\n",
            "t = 500, loss = 0.0019\n"
          ],
          "name": "stdout"
        },
        {
          "output_type": "stream",
          "text": [
            "t = 600, loss = 0.0527\n",
            "t = 700, loss = 0.0240\n",
            "Checking accuracy on training set\n",
            "Checking accuracy on training set\n",
            "TRaining acc: 99.63061224489795\n",
            "validation acc: 84.39999999999999\n",
            "Starting epoch 26 / 50\n",
            "t = 100, loss = 0.0262\n",
            "t = 200, loss = 0.0588\n",
            "t = 300, loss = 0.0016\n",
            "t = 400, loss = 0.0085\n",
            "t = 500, loss = 0.0282\n",
            "t = 600, loss = 0.1683\n",
            "t = 700, loss = 0.0046\n",
            "Checking accuracy on training set\n",
            "Checking accuracy on training set\n",
            "TRaining acc: 99.22244897959183\n",
            "validation acc: 83.0\n",
            "Starting epoch 27 / 50\n",
            "t = 100, loss = 0.0830\n",
            "t = 200, loss = 0.0829\n",
            "t = 300, loss = 0.0255\n",
            "t = 400, loss = 0.0028\n",
            "t = 500, loss = 0.0356\n",
            "t = 600, loss = 0.0057\n",
            "t = 700, loss = 0.0011\n",
            "Checking accuracy on training set\n",
            "Checking accuracy on training set\n",
            "TRaining acc: 99.53877551020408\n",
            "validation acc: 84.0\n",
            "Starting epoch 28 / 50\n",
            "t = 100, loss = 0.0400\n",
            "t = 200, loss = 0.0011\n",
            "t = 300, loss = 0.0113\n",
            "t = 400, loss = 0.0085\n",
            "t = 500, loss = 0.0957\n",
            "t = 600, loss = 0.0970\n",
            "t = 700, loss = 0.0014\n",
            "Checking accuracy on training set\n",
            "Checking accuracy on training set\n",
            "TRaining acc: 99.4\n",
            "validation acc: 83.7\n",
            "Starting epoch 29 / 50\n",
            "t = 100, loss = 0.0310\n",
            "t = 200, loss = 0.0402\n",
            "t = 300, loss = 0.0018\n",
            "t = 400, loss = 0.0412\n",
            "t = 500, loss = 0.0012\n",
            "t = 600, loss = 0.0531\n",
            "t = 700, loss = 0.0184\n",
            "Checking accuracy on training set\n",
            "Checking accuracy on training set\n",
            "TRaining acc: 99.75714285714285\n",
            "validation acc: 84.6\n",
            "Starting epoch 30 / 50\n",
            "t = 100, loss = 0.0033\n",
            "t = 200, loss = 0.0016\n",
            "t = 300, loss = 0.0008\n",
            "t = 400, loss = 0.0058\n",
            "t = 500, loss = 0.0195\n",
            "t = 600, loss = 0.0465\n",
            "t = 700, loss = 0.0018\n",
            "Checking accuracy on training set\n",
            "Checking accuracy on training set\n",
            "TRaining acc: 99.62244897959184\n",
            "validation acc: 84.1\n",
            "Starting epoch 31 / 50\n",
            "t = 100, loss = 0.0232\n",
            "t = 200, loss = 0.0127\n",
            "t = 300, loss = 0.0042\n",
            "t = 400, loss = 0.0143\n",
            "t = 500, loss = 0.0167\n",
            "t = 600, loss = 0.0182\n",
            "t = 700, loss = 0.0192\n",
            "Checking accuracy on training set\n",
            "Checking accuracy on training set\n",
            "TRaining acc: 99.71428571428571\n",
            "validation acc: 84.0\n",
            "Starting epoch 32 / 50\n",
            "t = 100, loss = 0.0151\n",
            "t = 200, loss = 0.0385\n",
            "t = 300, loss = 0.0871\n",
            "t = 400, loss = 0.0340\n",
            "t = 500, loss = 0.0161\n",
            "t = 600, loss = 0.0027\n",
            "t = 700, loss = 0.0056\n",
            "Checking accuracy on training set\n",
            "Checking accuracy on training set\n",
            "TRaining acc: 99.81428571428572\n",
            "validation acc: 84.8\n",
            "Starting epoch 33 / 50\n",
            "t = 100, loss = 0.0007\n",
            "t = 200, loss = 0.0011\n",
            "t = 300, loss = 0.0251\n",
            "t = 400, loss = 0.0005\n",
            "t = 500, loss = 0.0011\n"
          ],
          "name": "stdout"
        },
        {
          "output_type": "stream",
          "text": [
            "t = 600, loss = 0.0256\n",
            "t = 700, loss = 0.0253\n",
            "Checking accuracy on training set\n",
            "Checking accuracy on training set\n",
            "TRaining acc: 99.65714285714286\n",
            "validation acc: 84.0\n",
            "Starting epoch 34 / 50\n",
            "t = 100, loss = 0.0061\n",
            "t = 200, loss = 0.0036\n",
            "t = 300, loss = 0.0778\n",
            "t = 400, loss = 0.0050\n",
            "t = 500, loss = 0.0868\n",
            "t = 600, loss = 0.0047\n",
            "t = 700, loss = 0.0291\n",
            "Checking accuracy on training set\n",
            "Checking accuracy on training set\n",
            "TRaining acc: 99.76734693877552\n",
            "validation acc: 84.89999999999999\n",
            "Starting epoch 35 / 50\n",
            "t = 100, loss = 0.0154\n",
            "t = 200, loss = 0.0023\n",
            "t = 300, loss = 0.0155\n",
            "t = 400, loss = 0.0932\n",
            "t = 500, loss = 0.0011\n",
            "t = 600, loss = 0.0020\n",
            "t = 700, loss = 0.0682\n",
            "Checking accuracy on training set\n",
            "Checking accuracy on training set\n",
            "TRaining acc: 99.65714285714286\n",
            "validation acc: 85.0\n",
            "Starting epoch 36 / 50\n",
            "t = 100, loss = 0.0178\n",
            "t = 200, loss = 0.0058\n",
            "t = 300, loss = 0.0237\n",
            "t = 400, loss = 0.0081\n",
            "t = 500, loss = 0.0122\n",
            "t = 600, loss = 0.1359\n",
            "t = 700, loss = 0.0057\n",
            "Checking accuracy on training set\n",
            "Checking accuracy on training set\n",
            "TRaining acc: 99.85102040816327\n",
            "validation acc: 84.89999999999999\n",
            "Starting epoch 37 / 50\n",
            "t = 100, loss = 0.0022\n",
            "t = 200, loss = 0.0135\n",
            "t = 300, loss = 0.0062\n",
            "t = 400, loss = 0.0041\n",
            "t = 500, loss = 0.0027\n",
            "t = 600, loss = 0.0253\n",
            "t = 700, loss = 0.0743\n",
            "Checking accuracy on training set\n",
            "Checking accuracy on training set\n",
            "TRaining acc: 99.65102040816326\n",
            "validation acc: 83.89999999999999\n",
            "Starting epoch 38 / 50\n",
            "t = 100, loss = 0.0170\n",
            "t = 200, loss = 0.0128\n",
            "t = 300, loss = 0.0013\n",
            "t = 400, loss = 0.0365\n",
            "t = 500, loss = 0.0070\n",
            "t = 600, loss = 0.0078\n",
            "t = 700, loss = 0.0002\n",
            "Checking accuracy on training set\n",
            "Checking accuracy on training set\n",
            "TRaining acc: 99.67959183673469\n",
            "validation acc: 83.3\n",
            "Starting epoch 39 / 50\n",
            "t = 100, loss = 0.0280\n",
            "t = 200, loss = 0.0990\n",
            "t = 300, loss = 0.0284\n",
            "t = 400, loss = 0.0008\n",
            "t = 500, loss = 0.0005\n",
            "t = 600, loss = 0.0277\n",
            "t = 700, loss = 0.0054\n",
            "Checking accuracy on training set\n",
            "Checking accuracy on training set\n",
            "TRaining acc: 99.79591836734694\n",
            "validation acc: 84.39999999999999\n",
            "Starting epoch 40 / 50\n",
            "t = 100, loss = 0.0216\n",
            "t = 200, loss = 0.0095\n",
            "t = 300, loss = 0.0005\n",
            "t = 400, loss = 0.0023\n",
            "t = 500, loss = 0.0049\n",
            "t = 600, loss = 0.0327\n",
            "t = 700, loss = 0.0034\n",
            "Checking accuracy on training set\n",
            "Checking accuracy on training set\n",
            "TRaining acc: 99.79795918367347\n",
            "validation acc: 83.5\n",
            "Starting epoch 41 / 50\n",
            "t = 100, loss = 0.0245\n",
            "t = 200, loss = 0.0027\n",
            "t = 300, loss = 0.0066\n",
            "t = 400, loss = 0.0019\n"
          ],
          "name": "stdout"
        },
        {
          "output_type": "stream",
          "text": [
            "t = 500, loss = 0.0003\n",
            "t = 600, loss = 0.0039\n",
            "t = 700, loss = 0.0112\n",
            "Checking accuracy on training set\n",
            "Checking accuracy on training set\n",
            "TRaining acc: 99.7530612244898\n",
            "validation acc: 84.0\n",
            "Starting epoch 42 / 50\n",
            "t = 100, loss = 0.0008\n",
            "t = 200, loss = 0.0296\n",
            "t = 300, loss = 0.0539\n",
            "t = 400, loss = 0.0075\n",
            "t = 500, loss = 0.0082\n",
            "t = 600, loss = 0.0001\n",
            "t = 700, loss = 0.0064\n",
            "Checking accuracy on training set\n",
            "Checking accuracy on training set\n",
            "TRaining acc: 99.78163265306122\n",
            "validation acc: 83.7\n",
            "Starting epoch 43 / 50\n",
            "t = 100, loss = 0.0073\n",
            "t = 200, loss = 0.0451\n",
            "t = 300, loss = 0.0378\n",
            "t = 400, loss = 0.0010\n",
            "t = 500, loss = 0.0051\n",
            "t = 600, loss = 0.0005\n",
            "t = 700, loss = 0.1292\n",
            "Checking accuracy on training set\n",
            "Checking accuracy on training set\n",
            "TRaining acc: 99.80204081632652\n",
            "validation acc: 84.2\n",
            "Starting epoch 44 / 50\n",
            "t = 100, loss = 0.0271\n",
            "t = 200, loss = 0.0032\n",
            "t = 300, loss = 0.0024\n",
            "t = 400, loss = 0.0091\n",
            "t = 500, loss = 0.0011\n",
            "t = 600, loss = 0.0014\n",
            "t = 700, loss = 0.0821\n",
            "Checking accuracy on training set\n",
            "Checking accuracy on training set\n",
            "TRaining acc: 99.80408163265307\n",
            "validation acc: 84.1\n",
            "Starting epoch 45 / 50\n",
            "t = 100, loss = 0.0299\n",
            "t = 200, loss = 0.0010\n",
            "t = 300, loss = 0.0184\n",
            "t = 400, loss = 0.0014\n",
            "t = 500, loss = 0.0051\n",
            "t = 600, loss = 0.0320\n",
            "t = 700, loss = 0.0090\n",
            "Checking accuracy on training set\n",
            "Checking accuracy on training set\n",
            "TRaining acc: 99.86530612244898\n",
            "validation acc: 84.0\n",
            "Starting epoch 46 / 50\n",
            "t = 100, loss = 0.0362\n",
            "t = 200, loss = 0.0033\n",
            "t = 300, loss = 0.0625\n",
            "t = 400, loss = 0.0006\n",
            "t = 500, loss = 0.0021\n",
            "t = 600, loss = 0.0041\n",
            "t = 700, loss = 0.0029\n",
            "Checking accuracy on training set\n",
            "Checking accuracy on training set\n",
            "TRaining acc: 99.7204081632653\n",
            "validation acc: 84.89999999999999\n",
            "Starting epoch 47 / 50\n",
            "t = 100, loss = 0.0052\n",
            "t = 200, loss = 0.0429\n",
            "t = 300, loss = 0.0464\n",
            "t = 400, loss = 0.0007\n",
            "t = 500, loss = 0.0052\n",
            "t = 600, loss = 0.0610\n",
            "t = 700, loss = 0.0216\n",
            "Checking accuracy on training set\n",
            "Checking accuracy on training set\n",
            "TRaining acc: 99.77755102040817\n",
            "validation acc: 83.89999999999999\n",
            "Starting epoch 48 / 50\n",
            "t = 100, loss = 0.0025\n",
            "t = 200, loss = 0.0071\n",
            "t = 300, loss = 0.0027\n",
            "t = 400, loss = 0.0089\n",
            "t = 500, loss = 0.0008\n",
            "t = 600, loss = 0.0036\n",
            "t = 700, loss = 0.0009\n",
            "Checking accuracy on training set\n",
            "Checking accuracy on training set\n",
            "TRaining acc: 99.87755102040816\n",
            "validation acc: 85.1\n",
            "Starting epoch 49 / 50\n",
            "t = 100, loss = 0.0004\n",
            "t = 200, loss = 0.0036\n",
            "t = 300, loss = 0.0227\n",
            "t = 400, loss = 0.0010\n"
          ],
          "name": "stdout"
        },
        {
          "output_type": "stream",
          "text": [
            "t = 500, loss = 0.0013\n",
            "t = 600, loss = 0.0125\n",
            "t = 700, loss = 0.0702\n",
            "Checking accuracy on training set\n",
            "Checking accuracy on training set\n",
            "TRaining acc: 99.86326530612246\n",
            "validation acc: 84.89999999999999\n",
            "Starting epoch 50 / 50\n",
            "t = 100, loss = 0.0041\n",
            "t = 200, loss = 0.0074\n",
            "t = 300, loss = 0.0454\n",
            "t = 400, loss = 0.0032\n",
            "t = 500, loss = 0.0815\n",
            "t = 600, loss = 0.0024\n",
            "t = 700, loss = 0.0446\n",
            "Checking accuracy on training set\n",
            "Checking accuracy on training set\n",
            "TRaining acc: 99.83877551020409\n",
            "validation acc: 85.39999999999999\n",
            "Checking accuracy on validation set\n"
          ],
          "name": "stdout"
        },
        {
          "output_type": "stream",
          "text": [
            "/usr/local/lib/python3.6/dist-packages/ipykernel_launcher.py:38: UserWarning: volatile was removed and now has no effect. Use `with torch.no_grad():` instead.\n"
          ],
          "name": "stderr"
        },
        {
          "output_type": "stream",
          "text": [
            "Got 854 / 1000 correct (85.40)\n"
          ],
          "name": "stdout"
        }
      ]
    },
    {
      "metadata": {
        "id": "t56_cEpzzfcj",
        "colab_type": "text"
      },
      "cell_type": "markdown",
      "source": [
        "### Describe what you did \n",
        "\n",
        "In the cell below you should write an explanation of what you did, any additional features that you implemented, and any visualizations or graphs that you make in the process of training and evaluating your network."
      ]
    },
    {
      "metadata": {
        "id": "XL8ETpvl5Gks",
        "colab_type": "code",
        "colab": {
          "autoexec": {
            "startup": false,
            "wait_interval": 0
          },
          "base_uri": "https://localhost:8080/",
          "height": 364
        },
        "outputId": "56e2b3ed-2467-4fa0-d3f5-ed435c052f68",
        "executionInfo": {
          "status": "ok",
          "timestamp": 1525282162677,
          "user_tz": -120,
          "elapsed": 909,
          "user": {
            "displayName": "Ahmed Hassaan",
            "photoUrl": "//lh4.googleusercontent.com/-Q6az9v3i4Ws/AAAAAAAAAAI/AAAAAAAAALw/cibHIIxzIqY/s50-c-k-no/photo.jpg",
            "userId": "114526772695805131272"
          }
        }
      },
      "cell_type": "code",
      "source": [
        "import matplotlib.pyplot as plt\n",
        "plt.plot(tr)"
      ],
      "execution_count": 67,
      "outputs": [
        {
          "output_type": "execute_result",
          "data": {
            "text/plain": [
              "[<matplotlib.lines.Line2D at 0x7f680b0bcd68>]"
            ]
          },
          "metadata": {
            "tags": []
          },
          "execution_count": 67
        },
        {
          "output_type": "display_data",
          "data": {
            "image/png": "[encoded data removed]",
            "text/plain": [
              "<matplotlib.figure.Figure at 0x7f680b0c8710>"
            ]
          },
          "metadata": {
            "tags": []
          }
        }
      ]
    },
    {
      "metadata": {
        "id": "ra3wbNHt5tyS",
        "colab_type": "code",
        "colab": {
          "autoexec": {
            "startup": false,
            "wait_interval": 0
          },
          "base_uri": "https://localhost:8080/",
          "height": 364
        },
        "outputId": "47a3d800-49c2-4522-cf80-43b0e3d13a70",
        "executionInfo": {
          "status": "ok",
          "timestamp": 1525282185276,
          "user_tz": -120,
          "elapsed": 813,
          "user": {
            "displayName": "Ahmed Hassaan",
            "photoUrl": "//lh4.googleusercontent.com/-Q6az9v3i4Ws/AAAAAAAAAAI/AAAAAAAAALw/cibHIIxzIqY/s50-c-k-no/photo.jpg",
            "userId": "114526772695805131272"
          }
        }
      },
      "cell_type": "code",
      "source": [
        "plt.plot(val)"
      ],
      "execution_count": 69,
      "outputs": [
        {
          "output_type": "execute_result",
          "data": {
            "text/plain": [
              "[<matplotlib.lines.Line2D at 0x7f68089838d0>]"
            ]
          },
          "metadata": {
            "tags": []
          },
          "execution_count": 69
        },
        {
          "output_type": "display_data",
          "data": {
            "image/png": "[encoded data removed]",
            "text/plain": [
              "<matplotlib.figure.Figure at 0x7f680af4d518>"
            ]
          },
          "metadata": {
            "tags": []
          }
        }
      ]
    },
    {
      "metadata": {
        "id": "8tz9QNLazfcj",
        "colab_type": "text"
      },
      "cell_type": "markdown",
      "source": [
        "Tell us here!"
      ]
    },
    {
      "metadata": {
        "id": "cYRhgWxWzfck",
        "colab_type": "text"
      },
      "cell_type": "markdown",
      "source": [
        "## Test set -- run this only once\n",
        "\n",
        "Now that we've gotten a result we're happy with, we test our final model on the test set (which you should store in best_model).  This would be the score we would achieve on a competition. Think about how this compares to your validation set accuracy."
      ]
    },
    {
      "metadata": {
        "id": "FU1Xq-T_zfcl",
        "colab_type": "code",
        "colab": {
          "autoexec": {
            "startup": false,
            "wait_interval": 0
          },
          "base_uri": "https://localhost:8080/",
          "height": 88
        },
        "outputId": "200d45d5-dab6-47ef-ac39-58f7e5f33e03",
        "executionInfo": {
          "status": "ok",
          "timestamp": 1525280764507,
          "user_tz": -120,
          "elapsed": 4555,
          "user": {
            "displayName": "Ahmed Hassaan",
            "photoUrl": "//lh4.googleusercontent.com/-Q6az9v3i4Ws/AAAAAAAAAAI/AAAAAAAAALw/cibHIIxzIqY/s50-c-k-no/photo.jpg",
            "userId": "114526772695805131272"
          }
        }
      },
      "cell_type": "code",
      "source": [
        "best_model = model\n",
        "check_accuracy(best_model, loader_test)"
      ],
      "execution_count": 63,
      "outputs": [
        {
          "output_type": "stream",
          "text": [
            "Checking accuracy on test set\n"
          ],
          "name": "stdout"
        },
        {
          "output_type": "stream",
          "text": [
            "/usr/local/lib/python3.6/dist-packages/ipykernel_launcher.py:38: UserWarning: volatile was removed and now has no effect. Use `with torch.no_grad():` instead.\n"
          ],
          "name": "stderr"
        },
        {
          "output_type": "stream",
          "text": [
            "Got 8362 / 10000 correct (83.62)\n"
          ],
          "name": "stdout"
        }
      ]
    },
    {
      "metadata": {
        "id": "GqtOqDikzfcu",
        "colab_type": "text"
      },
      "cell_type": "markdown",
      "source": [
        "## Going further with PyTorch\n",
        "\n",
        "The next assignment will make heavy use of PyTorch. You might also find it useful for your projects. \n",
        "\n",
        "Here's a nice tutorial by Justin Johnson that shows off some of PyTorch's features, like dynamic graphs and custom NN modules: http://pytorch.org/tutorials/beginner/pytorch_with_examples.html\n",
        "\n",
        "If you're interested in reinforcement learning for your final project, this is a good (more advanced) DQN tutorial in PyTorch: http://pytorch.org/tutorials/intermediate/reinforcement_q_learning.html"
      ]
    }
  ]
}