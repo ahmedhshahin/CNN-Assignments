{
 "cells": [
  {
   "cell_type": "markdown",
   "metadata": {},
   "source": [
    "# Softmax exercise\n",
    "\n",
    "*Complete and hand in this completed worksheet (including its outputs and any supporting code outside of the worksheet) with your assignment submission. For more details see the [assignments page](http://vision.stanford.edu/teaching/cs231n/assignments.html) on the course website.*\n",
    "\n",
    "This exercise is analogous to the SVM exercise. You will:\n",
    "\n",
    "- implement a fully-vectorized **loss function** for the Softmax classifier\n",
    "- implement the fully-vectorized expression for its **analytic gradient**\n",
    "- **check your implementation** with numerical gradient\n",
    "- use a validation set to **tune the learning rate and regularization** strength\n",
    "- **optimize** the loss function with **SGD**\n",
    "- **visualize** the final learned weights\n"
   ]
  },
  {
   "cell_type": "code",
   "execution_count": 1,
   "metadata": {},
   "outputs": [],
   "source": [
    "import random\n",
    "import numpy as np\n",
    "from cs231n.data_utils import load_CIFAR10\n",
    "import matplotlib.pyplot as plt\n",
    "\n",
    "from __future__ import print_function\n",
    "\n",
    "%matplotlib inline\n",
    "plt.rcParams['figure.figsize'] = (10.0, 8.0) # set default size of plots\n",
    "plt.rcParams['image.interpolation'] = 'nearest'\n",
    "plt.rcParams['image.cmap'] = 'gray'\n",
    "\n",
    "# for auto-reloading extenrnal modules\n",
    "# see http://stackoverflow.com/questions/1907993/autoreload-of-modules-in-ipython\n",
    "%load_ext autoreload\n",
    "%autoreload 2"
   ]
  },
  {
   "cell_type": "code",
   "execution_count": 2,
   "metadata": {},
   "outputs": [
    {
     "name": "stdout",
     "output_type": "stream",
     "text": [
      "Train data shape:  (49000, 3073)\n",
      "Train labels shape:  (49000,)\n",
      "Validation data shape:  (1000, 3073)\n",
      "Validation labels shape:  (1000,)\n",
      "Test data shape:  (1000, 3073)\n",
      "Test labels shape:  (1000,)\n",
      "dev data shape:  (500, 3073)\n",
      "dev labels shape:  (500,)\n"
     ]
    }
   ],
   "source": [
    "def get_CIFAR10_data(num_training=49000, num_validation=1000, num_test=1000, num_dev=500):\n",
    "    \"\"\"\n",
    "    Load the CIFAR-10 dataset from disk and perform preprocessing to prepare\n",
    "    it for the linear classifier. These are the same steps as we used for the\n",
    "    SVM, but condensed to a single function.  \n",
    "    \"\"\"\n",
    "    # Load the raw CIFAR-10 data\n",
    "    cifar10_dir = 'cs231n/datasets/cifar-10-batches-py'\n",
    "    X_train, y_train, X_test, y_test = load_CIFAR10(cifar10_dir)\n",
    "    \n",
    "    # subsample the data\n",
    "    mask = list(range(num_training, num_training + num_validation))\n",
    "    X_val = X_train[mask]\n",
    "    y_val = y_train[mask]\n",
    "    mask = list(range(num_training))\n",
    "    X_train = X_train[mask]\n",
    "    y_train = y_train[mask]\n",
    "    mask = list(range(num_test))\n",
    "    X_test = X_test[mask]\n",
    "    y_test = y_test[mask]\n",
    "    mask = np.random.choice(num_training, num_dev, replace=False)\n",
    "    X_dev = X_train[mask]\n",
    "    y_dev = y_train[mask]\n",
    "    \n",
    "    # Preprocessing: reshape the image data into rows\n",
    "    X_train = np.reshape(X_train, (X_train.shape[0], -1))\n",
    "    X_val = np.reshape(X_val, (X_val.shape[0], -1))\n",
    "    X_test = np.reshape(X_test, (X_test.shape[0], -1))\n",
    "    X_dev = np.reshape(X_dev, (X_dev.shape[0], -1))\n",
    "    \n",
    "    # Normalize the data: subtract the mean image\n",
    "    mean_image = np.mean(X_train, axis = 0)\n",
    "    X_train -= mean_image\n",
    "    X_val -= mean_image\n",
    "    X_test -= mean_image\n",
    "    X_dev -= mean_image\n",
    "    \n",
    "    # add bias dimension and transform into columns\n",
    "    X_train = np.hstack([X_train, np.ones((X_train.shape[0], 1))])\n",
    "    X_val = np.hstack([X_val, np.ones((X_val.shape[0], 1))])\n",
    "    X_test = np.hstack([X_test, np.ones((X_test.shape[0], 1))])\n",
    "    X_dev = np.hstack([X_dev, np.ones((X_dev.shape[0], 1))])\n",
    "    \n",
    "    return X_train, y_train, X_val, y_val, X_test, y_test, X_dev, y_dev\n",
    "\n",
    "\n",
    "# Invoke the above function to get our data.\n",
    "X_train, y_train, X_val, y_val, X_test, y_test, X_dev, y_dev = get_CIFAR10_data()\n",
    "print('Train data shape: ', X_train.shape)\n",
    "print('Train labels shape: ', y_train.shape)\n",
    "print('Validation data shape: ', X_val.shape)\n",
    "print('Validation labels shape: ', y_val.shape)\n",
    "print('Test data shape: ', X_test.shape)\n",
    "print('Test labels shape: ', y_test.shape)\n",
    "print('dev data shape: ', X_dev.shape)\n",
    "print('dev labels shape: ', y_dev.shape)"
   ]
  },
  {
   "cell_type": "markdown",
   "metadata": {},
   "source": [
    "## Softmax Classifier\n",
    "\n",
    "Your code for this section will all be written inside **cs231n/classifiers/softmax.py**. \n"
   ]
  },
  {
   "cell_type": "code",
   "execution_count": 3,
   "metadata": {},
   "outputs": [
    {
     "name": "stdout",
     "output_type": "stream",
     "text": [
      "loss: 2.335590\n",
      "sanity check: 2.302585\n"
     ]
    }
   ],
   "source": [
    "# First implement the naive softmax loss function with nested loops.\n",
    "# Open the file cs231n/classifiers/softmax.py and implement the\n",
    "# softmax_loss_naive function.\n",
    "\n",
    "from cs231n.classifiers.softmax import softmax_loss_naive, softmax_loss_vectorized\n",
    "import time\n",
    "\n",
    "# Generate a random softmax weight matrix and use it to compute the loss.\n",
    "W = np.random.randn(3073, 10) * 0.0001\n",
    "loss, grad = softmax_loss_naive(W, X_dev, y_dev, 0.0)\n",
    "\n",
    "# As a rough sanity check, our loss should be something close to -log(0.1).\n",
    "print('loss: %f' % loss)\n",
    "print('sanity check: %f' % (-np.log(0.1)))"
   ]
  },
  {
   "cell_type": "markdown",
   "metadata": {},
   "source": [
    "## Inline Question 1:\n",
    "Why do we expect our loss to be close to -log(0.1)? Explain briefly.**\n",
    "\n",
    "**Your answer:**\n",
    "\n",
    "Number of classes = 10, and initially we have weights near to zeros, exp(0) = 1, so the loss will be\n",
    "\n",
    "- log( exp(0) / 10 * exp(0)) = -log(0.1) = log(10)\n",
    "\n",
    "Actually, this result tells us that all calsses are equally probable, not necessary zero weights."
   ]
  },
  {
   "cell_type": "code",
   "execution_count": 4,
   "metadata": {},
   "outputs": [
    {
     "name": "stdout",
     "output_type": "stream",
     "text": [
      "numerical: 3.866203 analytic: 3.747318, relative error: 1.561491e-02\n",
      "numerical: 3.718630 analytic: 3.856389, relative error: 1.818593e-02\n",
      "numerical: -0.758722 analytic: -0.034559, relative error: 9.128701e-01\n",
      "numerical: 0.992925 analytic: 1.168698, relative error: 8.131492e-02\n",
      "numerical: 1.009413 analytic: 0.397675, relative error: 4.347541e-01\n",
      "numerical: 0.132043 analytic: 0.113652, relative error: 7.485286e-02\n",
      "numerical: -0.742452 analytic: -0.843449, relative error: 6.368425e-02\n",
      "numerical: 0.494601 analytic: 0.461811, relative error: 3.428404e-02\n",
      "numerical: 1.506151 analytic: 0.955348, relative error: 2.237674e-01\n",
      "numerical: 2.770741 analytic: 2.578123, relative error: 3.601097e-02\n",
      "numerical: 2.755243 analytic: 2.755243, relative error: 2.604000e-09\n",
      "numerical: -1.559376 analytic: -1.559376, relative error: 1.487796e-09\n",
      "numerical: -0.332775 analytic: -0.332775, relative error: 1.150301e-08\n",
      "numerical: 1.573705 analytic: 1.573705, relative error: 9.057011e-09\n",
      "numerical: 2.425865 analytic: 2.425865, relative error: 1.169721e-08\n",
      "numerical: -0.320400 analytic: -0.320400, relative error: 3.020216e-08\n",
      "numerical: -4.114822 analytic: -4.114822, relative error: 3.435889e-09\n",
      "numerical: -1.157736 analytic: -1.157736, relative error: 1.049997e-07\n",
      "numerical: 0.084219 analytic: 0.084219, relative error: 6.963684e-07\n",
      "numerical: -3.243852 analytic: -3.243852, relative error: 2.559681e-09\n"
     ]
    }
   ],
   "source": [
    "# Complete the implementation of softmax_loss_naive and implement a (naive)\n",
    "# version of the gradient that uses nested loops.\n",
    "loss, grad = softmax_loss_naive(W, X_dev, y_dev, 0.0)\n",
    "\n",
    "# As we did for the SVM, use numeric gradient checking as a debugging tool.\n",
    "# The numeric gradient should be close to the analytic gradient.\n",
    "from cs231n.gradient_check import grad_check_sparse\n",
    "f = lambda w: softmax_loss_vectorized(w, X_dev, y_dev, 0.0)[0]\n",
    "grad_numerical = grad_check_sparse(f, W, grad, 10)\n",
    "\n",
    "# similar to SVM case, do another gradient check with regularization\n",
    "loss, grad = softmax_loss_vectorized(W, X_dev, y_dev, 5e1)\n",
    "f = lambda w: softmax_loss_vectorized(w, X_dev, y_dev, 5e1)[0]\n",
    "grad_numerical = grad_check_sparse(f, W, grad, 10)"
   ]
  },
  {
   "cell_type": "code",
   "execution_count": 5,
   "metadata": {},
   "outputs": [
    {
     "name": "stdout",
     "output_type": "stream",
     "text": [
      "naive loss: 2.335590e+00 computed in 0.317359s\n",
      "vectorized loss: 2.335590e+00 computed in 0.007850s\n",
      "Loss difference: 0.000000\n",
      "Gradient difference: 106.642009\n"
     ]
    }
   ],
   "source": [
    "# Now that we have a naive implementation of the softmax loss function and its gradient,\n",
    "# implement a vectorized version in softmax_loss_vectorized.\n",
    "# The two versions should compute the same results, but the vectorized version should be\n",
    "# much faster.\n",
    "tic = time.time()\n",
    "loss_naive, grad_naive = softmax_loss_naive(W, X_dev, y_dev, 0.000005)\n",
    "toc = time.time()\n",
    "print('naive loss: %e computed in %fs' % (loss_naive, toc - tic))\n",
    "\n",
    "from cs231n.classifiers.softmax import softmax_loss_vectorized\n",
    "tic = time.time()\n",
    "loss_vectorized, grad_vectorized = softmax_loss_vectorized(W, X_dev, y_dev, 0.000005)\n",
    "toc = time.time()\n",
    "print('vectorized loss: %e computed in %fs' % (loss_vectorized, toc - tic))\n",
    "\n",
    "# As we did for the SVM, we use the Frobenius norm to compare the two versions\n",
    "# of the gradient.\n",
    "grad_difference = np.linalg.norm(grad_naive - grad_vectorized, ord='fro')\n",
    "print('Loss difference: %f' % np.abs(loss_naive - loss_vectorized))\n",
    "print('Gradient difference: %f' % grad_difference)"
   ]
  },
  {
   "cell_type": "code",
   "execution_count": 7,
   "metadata": {
    "scrolled": false
   },
   "outputs": [
    {
     "name": "stdout",
     "output_type": "stream",
     "text": [
      "lr 1.000000e-08 reg 1.000000e+04 train accuracy: 0.163816 val accuracy: 0.168000\n",
      "lr 1.000000e-08 reg 2.500000e+04 train accuracy: 0.162959 val accuracy: 0.184000\n",
      "lr 1.000000e-08 reg 4.000000e+04 train accuracy: 0.175163 val accuracy: 0.178000\n",
      "lr 1.000000e-08 reg 5.000000e+04 train accuracy: 0.188143 val accuracy: 0.218000\n",
      "lr 1.000000e-08 reg 6.000000e+04 train accuracy: 0.182286 val accuracy: 0.185000\n",
      "lr 1.000000e-08 reg 8.000000e+04 train accuracy: 0.174367 val accuracy: 0.201000\n",
      "lr 1.000000e-08 reg 1.000000e+05 train accuracy: 0.208367 val accuracy: 0.218000\n",
      "lr 1.000000e-08 reg 2.500000e+05 train accuracy: 0.274755 val accuracy: 0.278000\n",
      "lr 1.000000e-08 reg 5.000000e+05 train accuracy: 0.263082 val accuracy: 0.273000\n",
      "lr 1.000000e-07 reg 1.000000e+04 train accuracy: 0.331816 val accuracy: 0.337000\n",
      "lr 1.000000e-07 reg 2.500000e+04 train accuracy: 0.350531 val accuracy: 0.368000\n",
      "lr 1.000000e-07 reg 4.000000e+04 train accuracy: 0.336041 val accuracy: 0.345000\n",
      "lr 1.000000e-07 reg 5.000000e+04 train accuracy: 0.325510 val accuracy: 0.339000\n",
      "lr 1.000000e-07 reg 6.000000e+04 train accuracy: 0.316755 val accuracy: 0.332000\n",
      "lr 1.000000e-07 reg 8.000000e+04 train accuracy: 0.312265 val accuracy: 0.334000\n",
      "lr 1.000000e-07 reg 1.000000e+05 train accuracy: 0.311714 val accuracy: 0.326000\n",
      "lr 1.000000e-07 reg 2.500000e+05 train accuracy: 0.267265 val accuracy: 0.269000\n",
      "lr 1.000000e-07 reg 5.000000e+05 train accuracy: 0.248796 val accuracy: 0.264000\n",
      "lr 2.500000e-07 reg 1.000000e+04 train accuracy: 0.371245 val accuracy: 0.377000\n",
      "lr 2.500000e-07 reg 2.500000e+04 train accuracy: 0.347245 val accuracy: 0.362000\n",
      "lr 2.500000e-07 reg 4.000000e+04 train accuracy: 0.330102 val accuracy: 0.343000\n",
      "lr 2.500000e-07 reg 5.000000e+04 train accuracy: 0.320776 val accuracy: 0.326000\n",
      "lr 2.500000e-07 reg 6.000000e+04 train accuracy: 0.313980 val accuracy: 0.342000\n",
      "lr 2.500000e-07 reg 8.000000e+04 train accuracy: 0.307694 val accuracy: 0.323000\n",
      "lr 2.500000e-07 reg 1.000000e+05 train accuracy: 0.301980 val accuracy: 0.325000\n",
      "lr 2.500000e-07 reg 2.500000e+05 train accuracy: 0.268429 val accuracy: 0.276000\n",
      "lr 2.500000e-07 reg 5.000000e+05 train accuracy: 0.254735 val accuracy: 0.273000\n",
      "lr 5.000000e-07 reg 1.000000e+04 train accuracy: 0.367102 val accuracy: 0.371000\n",
      "lr 5.000000e-07 reg 2.500000e+04 train accuracy: 0.336592 val accuracy: 0.343000\n",
      "lr 5.000000e-07 reg 4.000000e+04 train accuracy: 0.315408 val accuracy: 0.334000\n",
      "lr 5.000000e-07 reg 5.000000e+04 train accuracy: 0.320510 val accuracy: 0.333000\n",
      "lr 5.000000e-07 reg 6.000000e+04 train accuracy: 0.324714 val accuracy: 0.341000\n",
      "lr 5.000000e-07 reg 8.000000e+04 train accuracy: 0.316776 val accuracy: 0.322000\n",
      "lr 5.000000e-07 reg 1.000000e+05 train accuracy: 0.309408 val accuracy: 0.322000\n",
      "lr 5.000000e-07 reg 2.500000e+05 train accuracy: 0.247898 val accuracy: 0.266000\n",
      "lr 5.000000e-07 reg 5.000000e+05 train accuracy: 0.252959 val accuracy: 0.256000\n",
      "lr 7.500000e-07 reg 1.000000e+04 train accuracy: 0.369347 val accuracy: 0.374000\n",
      "lr 7.500000e-07 reg 2.500000e+04 train accuracy: 0.338898 val accuracy: 0.352000\n",
      "lr 7.500000e-07 reg 4.000000e+04 train accuracy: 0.317755 val accuracy: 0.331000\n",
      "lr 7.500000e-07 reg 5.000000e+04 train accuracy: 0.322429 val accuracy: 0.328000\n",
      "lr 7.500000e-07 reg 6.000000e+04 train accuracy: 0.307102 val accuracy: 0.318000\n",
      "lr 7.500000e-07 reg 8.000000e+04 train accuracy: 0.311102 val accuracy: 0.308000\n",
      "lr 7.500000e-07 reg 1.000000e+05 train accuracy: 0.302796 val accuracy: 0.315000\n",
      "lr 7.500000e-07 reg 2.500000e+05 train accuracy: 0.269184 val accuracy: 0.291000\n",
      "lr 7.500000e-07 reg 5.000000e+05 train accuracy: 0.249347 val accuracy: 0.242000\n",
      "best validation accuracy achieved during cross-validation: 0.377000\n"
     ]
    }
   ],
   "source": [
    "# Use the validation set to tune hyperparameters (regularization strength and\n",
    "# learning rate). You should experiment with different ranges for the learning\n",
    "# rates and regularization strengths; if you are careful you should be able to\n",
    "# get a classification accuracy of over 0.35 on the validation set.\n",
    "from cs231n.classifiers import Softmax\n",
    "results = {}\n",
    "best_val = -1\n",
    "best_softmax = None\n",
    "learning_rates = [1e-8, 5e-7 ,1e-7, 2.5e-7, 7.5e-7]\n",
    "regularization_strengths = [5e5, 2.5e5, 1e5, 5e4, 2.5e4, 1e4, 4e4, 6e4, 8e4]\n",
    "\n",
    "################################################################################\n",
    "# TODO:                                                                        #\n",
    "# Use the validation set to set the learning rate and regularization strength. #\n",
    "# This should be identical to the validation that you did for the SVM; save    #\n",
    "# the best trained softmax classifer in best_softmax.                          #\n",
    "################################################################################\n",
    "for lr in learning_rates:\n",
    "    for reg in regularization_strengths:\n",
    "        softmax = Softmax()\n",
    "        loss_hist = softmax.train(X_train, y_train, lr, reg,\n",
    "                      num_iters=1500, verbose=False)\n",
    "        \n",
    "        y_tr_pred = softmax.predict(X_train)\n",
    "        y_valid_pred = softmax.predict(X_val)\n",
    "        \n",
    "        tr_acc = np.mean(y_train == y_tr_pred)\n",
    "        val_acc = np.mean(y_val == y_valid_pred)\n",
    "        \n",
    "        results[(lr , reg)] = tr_acc, val_acc\n",
    "        if val_acc > best_val:\n",
    "            best_val = val_acc\n",
    "            best_softmax = softmax\n",
    "\n",
    "pass\n",
    "################################################################################\n",
    "#                              END OF YOUR CODE                                #\n",
    "################################################################################\n",
    "    \n",
    "# Print out results.\n",
    "for lr, reg in sorted(results):\n",
    "    train_accuracy, val_accuracy = results[(lr, reg)]\n",
    "    print('lr %e reg %e train accuracy: %f val accuracy: %f' % (\n",
    "                lr, reg, train_accuracy, val_accuracy))\n",
    "    \n",
    "print('best validation accuracy achieved during cross-validation: %f' % best_val)"
   ]
  },
  {
   "cell_type": "code",
   "execution_count": 8,
   "metadata": {},
   "outputs": [
    {
     "name": "stdout",
     "output_type": "stream",
     "text": [
      "softmax on raw pixels final test set accuracy: 0.369000\n"
     ]
    }
   ],
   "source": [
    "# evaluate on test set\n",
    "# Evaluate the best softmax on test set\n",
    "y_test_pred = best_softmax.predict(X_test)\n",
    "test_accuracy = np.mean(y_test == y_test_pred)\n",
    "print('softmax on raw pixels final test set accuracy: %f' % (test_accuracy, ))"
   ]
  },
  {
   "cell_type": "code",
   "execution_count": 9,
   "metadata": {},
   "outputs": [
    {
     "data": {
      "image/png": "[encoded data removed]",
      "text/plain": [
       "<matplotlib.figure.Figure at 0x7f0a5eab9ac8>"
      ]
     },
     "metadata": {},
     "output_type": "display_data"
    }
   ],
   "source": [
    "# Visualize the learned weights for each class\n",
    "w = best_softmax.W[:-1,:] # strip out the bias\n",
    "w = w.reshape(32, 32, 3, 10)\n",
    "\n",
    "w_min, w_max = np.min(w), np.max(w)\n",
    "\n",
    "classes = ['plane', 'car', 'bird', 'cat', 'deer', 'dog', 'frog', 'horse', 'ship', 'truck']\n",
    "for i in range(10):\n",
    "    plt.subplot(2, 5, i + 1)\n",
    "    \n",
    "    # Rescale the weights to be between 0 and 255\n",
    "    wimg = 255.0 * (w[:, :, :, i].squeeze() - w_min) / (w_max - w_min)\n",
    "    plt.imshow(wimg.astype('uint8'))\n",
    "    plt.axis('off')\n",
    "    plt.title(classes[i])"
   ]
  }
 ],
 "metadata": {
  "kernelspec": {
   "display_name": "Python 3",
   "language": "python",
   "name": "python3"
  },
  "language_info": {
   "codemirror_mode": {
    "name": "ipython",
    "version": 3
   },
   "file_extension": ".py",
   "mimetype": "text/x-python",
   "name": "python",
   "nbconvert_exporter": "python",
   "pygments_lexer": "ipython3",
   "version": "3.6.4"
  }
 },
 "nbformat": 4,
 "nbformat_minor": 1
}
